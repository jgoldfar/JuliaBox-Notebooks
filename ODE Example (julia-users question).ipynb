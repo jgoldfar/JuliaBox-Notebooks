{
 "cells": [
  {
   "cell_type": "code",
   "execution_count": null,
   "metadata": {
    "collapsed": true
   },
   "outputs": [],
   "source": [
    "import ODE\n",
    "w=1;\n",
    "γ=0.01;\n",
    "u\n",
    "f(x,y)= [y; -w^2*sin(x)-u*w^2*cos(x); -2γ*y];\n",
    "\n",
    "for i=1 : numberOfStates\n",
    "    x0=Sx[i+2];\n",
    "    y0=Sy[i+2];\n",
    "    for j=1:sizeU\n",
    "        u=U[i];\n",
    "        t,NX=ODE.ode45(f(x,y,u),[0,0.1],[x0,y0])\n",
    "    end\n",
    "end"
   ]
  }
 ],
 "metadata": {
  "kernelspec": {
   "display_name": "Julia 0.3.6",
   "language": "julia",
   "name": "julia 0.3"
  },
  "language_info": {
   "name": "julia",
   "version": "0.3.6"
  }
 },
 "nbformat": 4,
 "nbformat_minor": 0
}
