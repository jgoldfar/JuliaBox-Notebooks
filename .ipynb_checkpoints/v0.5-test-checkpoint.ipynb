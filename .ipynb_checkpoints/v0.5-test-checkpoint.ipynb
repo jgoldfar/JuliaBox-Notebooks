{
 "cells": [
  {
   "cell_type": "code",
   "execution_count": 1,
   "metadata": {
    "collapsed": false
   },
   "outputs": [
    {
     "name": "stdout",
     "output_type": "stream",
     "text": [
      "ASCIIString \"TEST\"\n"
     ]
    }
   ],
   "source": [
    "dump(\"TEST\")"
   ]
  },
  {
   "cell_type": "code",
   "execution_count": 2,
   "metadata": {
    "collapsed": false
   },
   "outputs": [
    {
     "name": "stdout",
     "output_type": "stream",
     "text": [
      "Julia Version 0.5.0-dev+1526\n",
      "Commit b775873 (2015-11-30 04:16 UTC)\n",
      "Platform Info:\n",
      "  System: Linux (x86_64-unknown-linux-gnu)\n",
      "  CPU: Intel(R) Xeon(R) CPU E5-2670 v2 @ 2.50GHz\n",
      "  WORD_SIZE: 64\n",
      "  BLAS: libopenblas (USE64BITINT DYNAMIC_ARCH NO_AFFINITY Sandybridge)\n",
      "  LAPACK: libopenblas64_\n",
      "  LIBM: libopenlibm\n",
      "  LLVM: libLLVM-3.3\n"
     ]
    }
   ],
   "source": [
    "versioninfo()"
   ]
  },
  {
   "cell_type": "code",
   "execution_count": 4,
   "metadata": {
    "collapsed": false
   },
   "outputs": [
    {
     "name": "stdout",
     "output_type": "stream",
     "text": [
      "Float64\n"
     ]
    },
    {
     "name": "stderr",
     "output_type": "stream",
     "text": [
      "WARNING: Method definition dotest(#T<:Any) in module Main at In[3]:2 overwritten at In[4]:2.\n"
     ]
    },
    {
     "ename": "LoadError",
     "evalue": "LoadError: UndefVarError: subf not defined\nwhile loading In[4], in expression starting on line 6",
     "output_type": "error",
     "traceback": [
      "LoadError: UndefVarError: subf not defined\nwhile loading In[4], in expression starting on line 6",
      ""
     ]
    },
    {
     "name": "stderr",
     "output_type": "stream",
     "text": [
      "WARNING: readbytes is deprecated, use read instead.\n",
      " in depwarn(Base.#depwarn, ASCIIString, Symbol) at ./deprecated.jl:64\n",
      " in readbytes(Base.#readbytes, Base.PipeEndpoint, Vararg{Any}) at ./deprecated.jl:30\n",
      " in send_stream(IJulia.#send_stream, Base.PipeEndpoint, ASCIIString) at /opt/julia_packages/.julia/v0.5/IJulia/src/stdio.jl:25\n",
      " in watch_stream(IJulia.#watch_stream, Base.PipeEndpoint, ASCIIString) at /opt/julia_packages/.julia/v0.5/IJulia/src/stdio.jl:41\n",
      " in #6(IJulia.##6#10) at ./task.jl:431\n",
      "while loading In[4], in expression starting on line 6\n"
     ]
    }
   ],
   "source": [
    "function dotest{T}(x::T)\n",
    "    println(T)\n",
    "#     subf(x2::T)=println(x, \", \", x2)\n",
    "#     subf(one(x))\n",
    "end\n",
    "dotest(1.1)"
   ]
  },
  {
   "cell_type": "code",
   "execution_count": null,
   "metadata": {
    "collapsed": true
   },
   "outputs": [],
   "source": []
  }
 ],
 "metadata": {
  "kernelspec": {
   "display_name": "Julia 0.5.0-dev",
   "language": "julia",
   "name": "julia-0.5"
  },
  "language_info": {
   "file_extension": ".jl",
   "mimetype": "application/julia",
   "name": "julia",
   "version": "0.5.0"
  }
 },
 "nbformat": 4,
 "nbformat_minor": 0
}
