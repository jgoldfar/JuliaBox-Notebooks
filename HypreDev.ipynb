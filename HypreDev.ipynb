{
 "cells": [
  {
   "cell_type": "code",
   "execution_count": 1,
   "metadata": {
    "collapsed": false
   },
   "outputs": [
    {
     "data": {
      "text/plain": [
       "Dict{ASCIIString,VersionNumber} with 109 entries:\n",
       "  \"Interact\"        => v\"0.1.6+\"\n",
       "  \"GLPK\"            => v\"0.2.14\"\n",
       "  \"Benchmark\"       => v\"0.1.0\"\n",
       "  \"PowerSeries\"     => v\"0.1.12\"\n",
       "  \"Graphs\"          => v\"0.5.2\"\n",
       "  \"DSP\"             => v\"0.0.6\"\n",
       "  \"Lazy\"            => v\"0.8.3\"\n",
       "  \"BayesNets\"       => v\"0.1.0\"\n",
       "  \"ImmutableArrays\" => v\"0.0.6\"\n",
       "  \"Tk\"              => v\"0.3.0\"\n",
       "  \"GraphLayout\"     => v\"0.2.0\"\n",
       "  \"ArrayViews\"      => v\"0.4.8\"\n",
       "  \"SymPy\"           => v\"0.2.24\"\n",
       "  \"ZMQ\"             => v\"0.1.16\"\n",
       "  \"DataStructures\"  => v\"0.3.5\"\n",
       "  \"Compat\"          => v\"0.2.12\"\n",
       "  \"Calculus\"        => v\"0.1.6\"\n",
       "  \"GZip\"            => v\"0.2.13\"\n",
       "  \"Clustering\"      => v\"0.3.3\"\n",
       "  \"HTTPClient\"      => v\"0.1.4\"\n",
       "  \"MathProgBase\"    => v\"0.3.9\"\n",
       "  \"Cairo\"           => v\"0.2.24\"\n",
       "  \"HttpParser\"      => v\"0.0.10\"\n",
       "  \"DataFrames\"      => v\"0.6.1\"\n",
       "  \"Requests\"        => v\"0.0.8\"\n",
       "  ⋮                  => ⋮"
      ]
     },
     "execution_count": 1,
     "metadata": {},
     "output_type": "execute_result"
    }
   ],
   "source": [
    "Pkg.installed()"
   ]
  },
  {
   "cell_type": "code",
   "execution_count": 1,
   "metadata": {
    "collapsed": false
   },
   "outputs": [
    {
     "name": "stderr",
     "output_type": "stream",
     "text": [
      "INFO: Cloning Hypre from https://github.com/jgoldfar/Hypre.jl.git\n",
      "INFO: Computing changes...\n",
      "INFO: Cloning cache of MPI from git://github.com/JuliaParallel/MPI.jl.git\n",
      "INFO: Installing MPI v0.2.5\n",
      "INFO: Building MPI\n",
      "INFO: Attempting to Create directory /home/juser/.julia/v0.3/MPI/deps/build\n",
      "INFO: Changing Directory to /home/juser/.julia/v0.3/MPI/deps/build\n"
     ]
    },
    {
     "name": "stdout",
     "output_type": "stream",
     "text": [
      "-- The Fortran compiler identification is GNU\n",
      "-- The C compiler identification is GNU 4.8.2\n",
      "-- Check for working Fortran compiler: /usr/bin/f95\n",
      "-- Check for working Fortran compiler: /usr/bin/f95  -- works\n",
      "-- Detecting Fortran compiler ABI info\n",
      "-- Detecting Fortran compiler ABI info - done\n",
      "-- Checking whether /usr/bin/f95 supports Fortran 90\n",
      "-- Checking whether /usr/bin/f95 supports Fortran 90 -- yes\n",
      "-- Check for working C compiler: /usr/bin/cc\n",
      "-- Check for working C compiler: /usr/bin/cc -- works\n",
      "-- Detecting C compiler ABI info\n",
      "-- Detecting C compiler ABI info - done\n",
      "-- Found Git: /usr/bin/git (found version \"1.9.1\") \n",
      "-- Found MPI_C: /usr/lib/libmpi.so;/usr/lib/x86_64-linux-gnu/libdl.so;/usr/lib/x86_64-linux-gnu/libhwloc.so  \n",
      "-- Found MPI_Fortran: /usr/lib/libmpi_f90.so;/usr/lib/libmpi_f77.so;/usr/lib/libmpi.so;/usr/lib/x86_64-linux-gnu/libdl.so;/usr/lib/x86_64-linux-gnu/libhwloc.so  \n",
      "-- Detecting Fortran/C Interface\n",
      "-- Detecting Fortran/C Interface - Found GLOBAL and MODULE mangling\n",
      "-- Configuring done\n",
      "-- Generating done\n",
      "-- Build files have been written to: /home/juser/.julia/v0.3/MPI/deps/build\n",
      "Scanning dependencies of target version\n",
      "[  0%] Built target version\n",
      "Scanning dependencies of target make_f2c\n",
      "[ 20%] Building C object CMakeFiles/make_f2c.dir/make_f2c.c.o\n",
      "Linking C executable make_f2c\n",
      "[ 20%] Built target make_f2c\n",
      "Scanning dependencies of target make_f_const\n",
      "[ 40%] Building Fortran object CMakeFiles/make_f_const.dir/make_f_const.f.o\n",
      "Linking Fortran executable make_f_const\n",
      "[ 40%] Built target make_f_const\n",
      "Scanning dependencies of target mpijl\n",
      "[ 60%] Generating compile-time.jl\n",
      "[ 60%] Built target mpijl\n",
      "Scanning dependencies of target mpijl-build\n",
      "[ 80%] Generating mpi-build.jl\n",
      "[ 80%] Built target mpijl-build\n",
      "Scanning dependencies of target juliampi\n",
      "[100%] Building Fortran object CMakeFiles/juliampi.dir/mpi.f.o\n",
      "Linking Fortran shared library libjuliampi.so\n",
      "[100%] Built target juliampi\n",
      "[  0%] Built target version\n",
      "[ 20%] Built target make_f2c\n",
      "[ 40%] Built target make_f_const\n",
      "[ 60%] Built target mpijl\n",
      "[ 80%] Built target mpijl-build\n",
      "[100%] Built target juliampi\n",
      "Install the project...\n",
      "-- Install configuration: \"\"\n",
      "-- Installing: /home/juser/.julia/v0.3/MPI/deps/src/./compile-time.jl\n",
      "-- Installing: /home/juser/.julia/v0.3/MPI/deps/usr/lib/libjuliampi.so\n",
      "Running tests...\n",
      "Test project /home/juser/.julia/v0.3/MPI/deps/build\n",
      "    Start 1: test_bcast.jl_np:2\n",
      "1/6 Test #1: test_bcast.jl_np:2 ...............   Passed    4.70 sec\n",
      "    Start 2: test_reduce.jl_np:2\n",
      "2/6 Test #2: test_reduce.jl_np:2 ..............   Passed    2.56 sec\n",
      "    Start 3: test_sendrecv.jl_np:2\n",
      "3/6 Test #3: test_sendrecv.jl_np:2 ............   Passed    2.75 sec\n",
      "    Start 4: test_bcast.jl_np:5\n",
      "4/6 Test #4: test_bcast.jl_np:5 ...............   Passed    4.14 sec\n",
      "    Start 5: test_reduce.jl_np:5\n",
      "5/6 Test #5: test_reduce.jl_np:5 ..............   Passed    2.70 sec\n",
      "    Start 6: test_sendrecv.jl_np:5\n",
      "6/6 Test #6: test_sendrecv.jl_np:5 ............   Passed    3.24 sec\n",
      "\n",
      "100% tests passed, 0 tests failed out of 6\n",
      "\n",
      "Total Test time (real) =  20.09 sec\n"
     ]
    }
   ],
   "source": [
    "Pkg.clone(\"https://github.com/jgoldfar/Hypre.jl.git\")"
   ]
  },
  {
   "cell_type": "code",
   "execution_count": 2,
   "metadata": {
    "collapsed": false
   },
   "outputs": [
    {
     "name": "stderr",
     "output_type": "stream",
     "text": [
      "INFO: Checking out Hypre master...\n",
      "INFO: Pulling Hypre latest master...\n",
      "INFO: No packages to install, update or remove\n",
      "INFO: Building MPI\n",
      "INFO: Building Hypre\n",
      "INFO: Attempting to Create directory /home/juser/.julia/v0.3/Hypre/deps/downloads\n",
      "INFO: Downloading file http://ftp.mcs.anl.gov/pub/petsc/externalpackages/hypre-2.9.0b.tar.gz\n",
      "  % Total    % Received % Xferd  Average Speed   Time    Time     Time  Current\n",
      "                                 Dload  Upload   Total   Spent    Left  Speed\n",
      "100 8840k  100 8840k    0     0  12.3M      0 --:--:-- --:--:-- --:--:-- 12.3M\n",
      "INFO: Done downloading file http://ftp.mcs.anl.gov/pub/petsc/externalpackages/hypre-2.9.0b.tar.gz\n",
      "INFO: Attempting to Create directory /home/juser/.julia/v0.3/Hypre/deps/src\n",
      "INFO: Attempting to Create directory /home/juser/.julia/v0.3/Hypre/deps\n",
      "INFO: Directory /home/juser/.julia/v0.3/Hypre/deps already created\n",
      "INFO: Attempting to Create directory /home/juser/.julia/v0.3/Hypre/deps/src/hypre-2.9.0b\n",
      "INFO: Attempting to Create directory /home/juser/.julia/v0.3/Hypre/deps/src/hypre-2.9.0b\n",
      "INFO: Directory /home/juser/.julia/v0.3/Hypre/deps/src/hypre-2.9.0b already created\n"
     ]
    },
    {
     "name": "stdout",
     "output_type": "stream",
     "text": [
      "-- The C compiler identification is GNU 4.8.2\n"
     ]
    },
    {
     "name": "stderr",
     "output_type": "stream",
     "text": [
      "INFO: Changing Directory to /home/juser/.julia/v0.3/Hypre/deps/src/hypre-2.9.0b/src/cmbuild\n"
     ]
    },
    {
     "name": "stdout",
     "output_type": "stream",
     "text": [
      "-- The CXX compiler identification is GNU 4.8.2\n",
      "-- Check for working C compiler: /usr/bin/cc\n",
      "-- Check for working C compiler: /usr/bin/cc -- works\n",
      "-- Detecting C compiler ABI info\n",
      "-- Detecting C compiler ABI info - done\n",
      "-- Check for working CXX compiler: /usr/bin/c++\n",
      "-- Check for working CXX compiler: /usr/bin/c++ -- works\n",
      "-- Detecting CXX compiler ABI info\n",
      "-- Detecting CXX compiler ABI info - done\n",
      "-- Found MPI_C: /usr/lib/libmpi.so;/usr/lib/x86_64-linux-gnu/libdl.so;/usr/lib/x86_64-linux-gnu/libhwloc.so  \n",
      "-- Found MPI_CXX: /usr/lib/libmpi_cxx.so;/usr/lib/libmpi.so;/usr/lib/x86_64-linux-gnu/libdl.so;/usr/lib/x86_64-linux-gnu/libhwloc.so  \n",
      "-- Configuring done\n"
     ]
    },
    {
     "name": "stderr",
     "output_type": "stream",
     "text": [
      "INFO: Changing Directory to /home/juser/.julia/v0.3/Hypre/deps/src/hypre-2.9.0b/src/cmbuild\n"
     ]
    },
    {
     "name": "stdout",
     "output_type": "stream",
     "text": [
      "-- Generating done\n",
      "-- Build files have been written to: /home/juser/.julia/v0.3/Hypre/deps/src/hypre-2.9.0b/src/cmbuild\n",
      "-- Configuring done\n",
      "-- Generating done\n"
     ]
    },
    {
     "name": "stderr",
     "output_type": "stream",
     "text": [
      "INFO: Changing Directory to /home/juser/.julia/v0.3/Hypre/deps/src/hypre-2.9.0b/src/cmbuild\n"
     ]
    },
    {
     "name": "stdout",
     "output_type": "stream",
     "text": [
      "-- Build files have been written to: /home/juser/.julia/v0.3/Hypre/deps/src/hypre-2.9.0b/src/cmbuild\n",
      "-- Configuring done\n",
      "-- Generating done\n"
     ]
    },
    {
     "name": "stderr",
     "output_type": "stream",
     "text": [
      "INFO: Changing Directory to /home/juser/.julia/v0.3/Hypre/deps/src/hypre-2.9.0b/src/cmbuild\n"
     ]
    },
    {
     "name": "stdout",
     "output_type": "stream",
     "text": [
      "-- Build files have been written to: /home/juser/.julia/v0.3/Hypre/deps/src/hypre-2.9.0b/src/cmbuild\n",
      "-- Cache values\n",
      "HYPRE_BIGINT:BOOL=OFF\n",
      "HYPRE_BUILD_TYPE:STRING=Release\n",
      "HYPRE_INSTALL_PREFIX:PATH=/home/juser/.julia/v0.3/Hypre/deps/usr\n",
      "HYPRE_NO_GLOBAL_PARTITION:BOOL=OFF\n",
      "HYPRE_PRINT_ERRORS:BOOL=OFF\n",
      "HYPRE_SEQUENTIAL:BOOL=OFF\n",
      "HYPRE_SHARED:BOOL=ON\n",
      "HYPRE_TIMING:BOOL=OFF\n",
      "HYPRE_USING_FEI:BOOL=ON\n",
      "HYPRE_USING_HYPRE_BLAS:BOOL=ON\n",
      "HYPRE_USING_HYPRE_LAPACK:BOOL=ON\n",
      "HYPRE_USING_MLI:BOOL=ON\n",
      "HYPRE_USING_OPENMP:BOOL=OFF\n",
      "HYPRE_USING_SUPERLU:BOOL=ON\n",
      "MPI_EXTRA_LIBRARY:STRING=/usr/lib/libmpi.so;/usr/lib/x86_64-linux-gnu/libdl.so;/usr/lib/x86_64-linux-gnu/libhwloc.so\n",
      "MPI_LIBRARY:FILEPATH=/usr/lib/libmpi_cxx.so\n",
      "Scanning dependencies of target HYPRE_fei\n",
      "[  1%] Building C object FEI_mv/fei-hypre/CMakeFiles/HYPRE_fei.dir/HYPRE_LSI_Dsuperlu.c.o\n",
      "[  1%] Building C object FEI_mv/fei-hypre/CMakeFiles/HYPRE_fei.dir/HYPRE_LSI_ddict.c.o\n",
      "[  1%] Building C object FEI_mv/fei-hypre/CMakeFiles/HYPRE_fei.dir/HYPRE_LSI_ddilut.c.o\n",
      "[  1%] Building C object FEI_mv/fei-hypre/CMakeFiles/HYPRE_fei.dir/HYPRE_LSI_ml.c.o\n",
      "[  1%] Building C object FEI_mv/fei-hypre/CMakeFiles/HYPRE_fei.dir/HYPRE_LSI_mlmaxwell.c.o\n",
      "[  1%] Building C object FEI_mv/fei-hypre/CMakeFiles/HYPRE_fei.dir/HYPRE_LSI_poly.c.o\n",
      "[  1%] Building C object FEI_mv/fei-hypre/CMakeFiles/HYPRE_fei.dir/HYPRE_LSI_schwarz.c.o\n",
      "[  2%] Building C object FEI_mv/fei-hypre/CMakeFiles/HYPRE_fei.dir/HYPRE_parcsr_TFQmr.c.o\n",
      "[  2%] Building C object FEI_mv/fei-hypre/CMakeFiles/HYPRE_fei.dir/HYPRE_parcsr_bicgs.c.o\n",
      "[  2%] Building C object FEI_mv/fei-hypre/CMakeFiles/HYPRE_fei.dir/HYPRE_parcsr_bicgstabl.c.o\n",
      "[  2%] Building C object FEI_mv/fei-hypre/CMakeFiles/HYPRE_fei.dir/HYPRE_parcsr_fgmres.c.o\n",
      "[  2%] Building C object FEI_mv/fei-hypre/CMakeFiles/HYPRE_fei.dir/HYPRE_parcsr_lsicg.c.o\n",
      "[  2%] Building C object FEI_mv/fei-hypre/CMakeFiles/HYPRE_fei.dir/HYPRE_parcsr_symqmr.c.o\n",
      "[  3%] Building C object FEI_mv/fei-hypre/CMakeFiles/HYPRE_fei.dir/HYPRE_parcsr_maxwell.c.o\n",
      "[  3%] Building C object FEI_mv/fei-hypre/CMakeFiles/HYPRE_fei.dir/SymQMR.c.o\n",
      "[  3%] Building C object FEI_mv/fei-hypre/CMakeFiles/HYPRE_fei.dir/TFQmr.c.o\n",
      "[  3%] Building C object FEI_mv/fei-hypre/CMakeFiles/HYPRE_fei.dir/bicgs.c.o\n",
      "[  3%] Building C object FEI_mv/fei-hypre/CMakeFiles/HYPRE_fei.dir/bicgstabl.c.o\n",
      "[  3%] Building C object FEI_mv/fei-hypre/CMakeFiles/HYPRE_fei.dir/fgmres.c.o\n",
      "[  4%] Building C object FEI_mv/fei-hypre/CMakeFiles/HYPRE_fei.dir/hypre_lsi_amge.c.o\n",
      "[  4%] Building C object FEI_mv/fei-hypre/CMakeFiles/HYPRE_fei.dir/hypre_lsi_ddamg.c.o\n",
      "[  4%] "
     ]
    },
    {
     "name": "stderr",
     "output_type": "stream",
     "text": [
      "/home/juser/.julia/v0.3/Hypre/deps/src/hypre-2.9.0b/src/FEI_mv/fei-hypre/hypre_lsi_misc.c: In function 'HYPRE_LSI_Get_IJAMatrixFromFile':\n"
     ]
    },
    {
     "name": "stdout",
     "output_type": "stream",
     "text": [
      "Building C object FEI_mv/fei-hypre/CMakeFiles/HYPRE_fei.dir/hypre_lsi_misc.c.o\n"
     ]
    },
    {
     "name": "stderr",
     "output_type": "stream",
     "text": [
      "/home/juser/.julia/v0.3/Hypre/deps/src/hypre-2.9.0b/src/FEI_mv/fei-hypre/hypre_lsi_misc.c:56:11: warning: ignoring return value of 'fscanf', declared with attribute warn_unused_result [-Wunused-result]\n",
      "     fscanf(fp, \"%d %d\", &Nrows, &nnz);\n",
      "           ^\n",
      "/home/juser/.julia/v0.3/Hypre/deps/src/hypre-2.9.0b/src/FEI_mv/fei-hypre/hypre_lsi_misc.c:69:14: warning: ignoring return value of 'fscanf', declared with attribute warn_unused_result [-Wunused-result]\n",
      "        fscanf(fp, \"%d %d %lg\", &rowindex, &colindex, &value);\n",
      "              ^\n",
      "/home/juser/.julia/v0.3/Hypre/deps/src/hypre-2.9.0b/src/FEI_mv/fei-hypre/hypre_lsi_misc.c:100:11: warning: ignoring return value of 'fscanf', declared with attribute warn_unused_result [-Wunused-result]\n",
      "     fscanf(fp, \"%d\", &ncnt);\n",
      "           ^\n",
      "/home/juser/.julia/v0.3/Hypre/deps/src/hypre-2.9.0b/src/FEI_mv/fei-hypre/hypre_lsi_misc.c:109:14: warning: ignoring return value of 'fscanf', declared with attribute warn_unused_result [-Wunused-result]\n",
      "        fscanf(fp, \"%d %lg\", &rnum, &dtemp);\n",
      "              ^\n"
     ]
    },
    {
     "name": "stdout",
     "output_type": "stream",
     "text": [
      "[  4%] Building C object FEI_mv/fei-hypre/CMakeFiles/HYPRE_fei.dir/lsicg.c.o\n",
      "[  4%] Building CXX object FEI_mv/fei-hypre/CMakeFiles/HYPRE_fei.dir/FEI_HYPRE_Impl.cxx.o\n",
      "[  4%] Building CXX object FEI_mv/fei-hypre/CMakeFiles/HYPRE_fei.dir/LLNL_FEI_Impl.cxx.o\n",
      "[  5%] Building CXX object FEI_mv/fei-hypre/CMakeFiles/HYPRE_fei.dir/LLNL_FEI_Fei.cxx.o\n",
      "[  5%] Building CXX object FEI_mv/fei-hypre/CMakeFiles/HYPRE_fei.dir/LLNL_FEI_LSCore.cxx.o\n",
      "[  5%] Building CXX object FEI_mv/fei-hypre/CMakeFiles/HYPRE_fei.dir/LLNL_FEI_Solver.cxx.o\n",
      "[  5%] Building CXX object FEI_mv/fei-hypre/CMakeFiles/HYPRE_fei.dir/LLNL_FEI_Matrix.cxx.o\n",
      "[  5%] Building CXX object FEI_mv/fei-hypre/CMakeFiles/HYPRE_fei.dir/HYPRE_LSC_aux.cxx.o\n",
      "[  5%] Building CXX object FEI_mv/fei-hypre/CMakeFiles/HYPRE_fei.dir/HYPRE_LSI_UZAWA.cxx.o\n",
      "[  6%] Building CXX object FEI_mv/fei-hypre/CMakeFiles/HYPRE_fei.dir/HYPRE_LSI_blkprec.cxx.o\n",
      "[  6%] Building CXX object FEI_mv/fei-hypre/CMakeFiles/HYPRE_fei.dir/HYPRE_LSI_mli.cxx.o\n",
      "[  6%] Building CXX object FEI_mv/fei-hypre/CMakeFiles/HYPRE_fei.dir/HYPRE_LinSysCore.cxx.o\n",
      "[  6%] Building CXX object FEI_mv/fei-hypre/CMakeFiles/HYPRE_fei.dir/HYPRE_SlideReduction.cxx.o\n",
      "[  6%] Building CXX object FEI_mv/fei-hypre/CMakeFiles/HYPRE_fei.dir/cfei_hypre.cxx.o\n",
      "[  6%] Building CXX object FEI_mv/fei-hypre/CMakeFiles/HYPRE_fei.dir/hypre_cfei.cxx.o\n",
      "[  7%] Building CXX object FEI_mv/fei-hypre/CMakeFiles/HYPRE_fei.dir/hypre_schur_reduce.cxx.o\n",
      "[  7%] Building CXX object FEI_mv/fei-hypre/CMakeFiles/HYPRE_fei.dir/hypre_slide_reduce.cxx.o\n",
      "[  7%] Building CXX object FEI_mv/fei-hypre/CMakeFiles/HYPRE_fei.dir/HYPRE_fei_mesh.cxx.o\n",
      "[  7%] Building CXX object FEI_mv/fei-hypre/CMakeFiles/HYPRE_fei.dir/HYPRE_fei_matrix.cxx.o\n",
      "[  7%] Building CXX object FEI_mv/fei-hypre/CMakeFiles/HYPRE_fei.dir/HYPRE_fei_vector.cxx.o\n",
      "[  7%] Built target HYPRE_fei\n",
      "Scanning dependencies of target HYPRE_mli\n",
      "[  7%] Building C object FEI_mv/femli/CMakeFiles/HYPRE_mli.dir/mli_utils.c.o\n"
     ]
    },
    {
     "name": "stderr",
     "output_type": "stream",
     "text": [
      "/home/juser/.julia/v0.3/Hypre/deps/src/hypre-2.9.0b/src/FEI_mv/femli/mli_utils.c: In function 'MLI_Utils_HypreMatrixReadTuminFormat':\n",
      "/home/juser/.julia/v0.3/Hypre/deps/src/hypre-2.9.0b/src/FEI_mv/femli/mli_utils.c:1466:16: warning: ignoring return value of 'fscanf', declared with attribute warn_unused_result [-Wunused-result]\n",
      "          fscanf( fp, \"%d\", &globalNRows );\n",
      "                ^\n",
      "/home/juser/.julia/v0.3/Hypre/deps/src/hypre-2.9.0b/src/FEI_mv/femli/mli_utils.c:1486:19: warning: ignoring return value of 'fscanf', declared with attribute warn_unused_result [-Wunused-result]\n",
      "             fscanf( fp, \"%d\", &colNum );\n",
      "                   ^\n",
      "/home/juser/.julia/v0.3/Hypre/deps/src/hypre-2.9.0b/src/FEI_mv/femli/mli_utils.c:1489:22: warning: ignoring return value of 'fscanf', declared with attribute warn_unused_result [-Wunused-result]\n",
      "                fscanf( fp, \"%lg\", &colVal );\n",
      "                      ^\n",
      "/home/juser/.julia/v0.3/Hypre/deps/src/hypre-2.9.0b/src/FEI_mv/femli/mli_utils.c:1490:22: warning: ignoring return value of 'fscanf', declared with attribute warn_unused_result [-Wunused-result]\n",
      "                fscanf( fp, \"%d\", &colNum );\n",
      "                      ^\n",
      "/home/juser/.julia/v0.3/Hypre/deps/src/hypre-2.9.0b/src/FEI_mv/femli/mli_utils.c:1503:19: warning: ignoring return value of 'fscanf', declared with attribute warn_unused_result [-Wunused-result]\n",
      "             fscanf( fp, \"%d\", &colNum );\n",
      "                   ^\n",
      "/home/juser/.julia/v0.3/Hypre/deps/src/hypre-2.9.0b/src/FEI_mv/femli/mli_utils.c:1506:22: warning: ignoring return value of 'fscanf', declared with attribute warn_unused_result [-Wunused-result]\n",
      "                fscanf( fp, \"%lg\", &colVal );\n",
      "                      ^\n",
      "/home/juser/.julia/v0.3/Hypre/deps/src/hypre-2.9.0b/src/FEI_mv/femli/mli_utils.c:1525:22: warning: ignoring return value of 'fscanf', declared with attribute warn_unused_result [-Wunused-result]\n",
      "                fscanf( fp, \"%d\", &colNum );\n",
      "                      ^\n",
      "/home/juser/.julia/v0.3/Hypre/deps/src/hypre-2.9.0b/src/FEI_mv/femli/mli_utils.c:1531:19: warning: ignoring return value of 'fscanf', declared with attribute warn_unused_result [-Wunused-result]\n",
      "             fscanf( fp, \"%d\", &colNum );\n",
      "                   ^\n",
      "/home/juser/.julia/v0.3/Hypre/deps/src/hypre-2.9.0b/src/FEI_mv/femli/mli_utils.c:1534:22: warning: ignoring return value of 'fscanf', declared with attribute warn_unused_result [-Wunused-result]\n",
      "                fscanf( fp, \"%lg\", &colVal );\n",
      "                      ^\n",
      "/home/juser/.julia/v0.3/Hypre/deps/src/hypre-2.9.0b/src/FEI_mv/femli/mli_utils.c:1535:22: warning: ignoring return value of 'fscanf', declared with attribute warn_unused_result [-Wunused-result]\n",
      "                fscanf( fp, \"%d\", &colNum );\n",
      "                      ^\n",
      "/home/juser/.julia/v0.3/Hypre/deps/src/hypre-2.9.0b/src/FEI_mv/femli/mli_utils.c: In function 'MLI_Utils_HypreMatrixReadIJAFormat':\n",
      "/home/juser/.julia/v0.3/Hypre/deps/src/hypre-2.9.0b/src/FEI_mv/femli/mli_utils.c:1626:19: warning: ignoring return value of 'system', declared with attribute warn_unused_result [-Wunused-result]\n",
      "             system(\"ls\");\n",
      "                   ^\n",
      "/home/juser/.julia/v0.3/Hypre/deps/src/hypre-2.9.0b/src/FEI_mv/femli/mli_utils.c:1629:16: warning: ignoring return value of 'fscanf', declared with attribute warn_unused_result [-Wunused-result]\n",
      "          fscanf( fp, \"%d %d\", &globalNRows, &globalNnz );\n",
      "                ^\n",
      "/home/juser/.julia/v0.3/Hypre/deps/src/hypre-2.9.0b/src/FEI_mv/femli/mli_utils.c:1654:19: warning: ignoring return value of 'fscanf', declared with attribute warn_unused_result [-Wunused-result]\n",
      "             fscanf( fp, \"%d %d %lg\", &rowNum, &colNum, &colVal );\n",
      "                   ^\n",
      "/home/juser/.julia/v0.3/Hypre/deps/src/hypre-2.9.0b/src/FEI_mv/femli/mli_utils.c:1668:19: warning: ignoring return value of 'fscanf', declared with attribute warn_unused_result [-Wunused-result]\n",
      "             fscanf( fp, \"%d %d %lg\", &rowNum, &colNum, &colVal );\n",
      "                   ^\n",
      "/home/juser/.julia/v0.3/Hypre/deps/src/hypre-2.9.0b/src/FEI_mv/femli/mli_utils.c:1686:19: warning: ignoring return value of 'fscanf', declared with attribute warn_unused_result [-Wunused-result]\n",
      "             fscanf( fp, \"%d %d %lg\", &rowNum, &colNum, &colVal );\n",
      "                   ^\n",
      "/home/juser/.julia/v0.3/Hypre/deps/src/hypre-2.9.0b/src/FEI_mv/femli/mli_utils.c: In function 'MLI_Utils_HypreParMatrixReadIJAFormat':\n",
      "/home/juser/.julia/v0.3/Hypre/deps/src/hypre-2.9.0b/src/FEI_mv/femli/mli_utils.c:1796:10: warning: ignoring return value of 'fscanf', declared with attribute warn_unused_result [-Wunused-result]\n",
      "    fscanf( fp, \"%d %d\", &localNRows, &localNnz );\n",
      "          ^\n",
      "/home/juser/.julia/v0.3/Hypre/deps/src/hypre-2.9.0b/src/FEI_mv/femli/mli_utils.c:1830:13: warning: ignoring return value of 'fscanf', declared with attribute warn_unused_result [-Wunused-result]\n",
      "       fscanf( fp, \"%d %d %lg\", &rowNum, &colNum, &colVal );\n",
      "             ^\n",
      "/home/juser/.julia/v0.3/Hypre/deps/src/hypre-2.9.0b/src/FEI_mv/femli/mli_utils.c: In function 'MLI_Utils_HypreMatrixReadHBFormat':\n",
      "/home/juser/.julia/v0.3/Hypre/deps/src/hypre-2.9.0b/src/FEI_mv/femli/mli_utils.c:1930:9: warning: ignoring return value of 'fgets', declared with attribute warn_unused_result [-Wunused-result]\n",
      "    fgets(line, lineLeng, fp);\n",
      "         ^\n",
      "/home/juser/.julia/v0.3/Hypre/deps/src/hypre-2.9.0b/src/FEI_mv/femli/mli_utils.c:1931:9: warning: ignoring return value of 'fgets', declared with attribute warn_unused_result [-Wunused-result]\n",
      "    fgets(line, lineLeng, fp);\n",
      "         ^\n",
      "/home/juser/.julia/v0.3/Hypre/deps/src/hypre-2.9.0b/src/FEI_mv/femli/mli_utils.c:1933:9: warning: ignoring return value of 'fgets', declared with attribute warn_unused_result [-Wunused-result]\n",
      "    fgets(line, lineLeng, fp);\n",
      "         ^\n",
      "/home/juser/.julia/v0.3/Hypre/deps/src/hypre-2.9.0b/src/FEI_mv/femli/mli_utils.c:1936:9: warning: ignoring return value of 'fgets', declared with attribute warn_unused_result [-Wunused-result]\n",
      "    fgets(line, lineLeng, fp);\n",
      "         ^\n",
      "/home/juser/.julia/v0.3/Hypre/deps/src/hypre-2.9.0b/src/FEI_mv/femli/mli_utils.c:1938:12: warning: ignoring return value of 'fgets', declared with attribute warn_unused_result [-Wunused-result]\n",
      "       fgets(line, lineLeng, fp);\n",
      "            ^\n",
      "/home/juser/.julia/v0.3/Hypre/deps/src/hypre-2.9.0b/src/FEI_mv/femli/mli_utils.c:1943:53: warning: ignoring return value of 'fscanf', declared with attribute warn_unused_result [-Wunused-result]\n",
      "    for (irow = 0; irow <= localNRows; irow++) fscanf(fp, \"%d\", &matIA[irow]);\n",
      "                                                     ^\n",
      "/home/juser/.julia/v0.3/Hypre/deps/src/hypre-2.9.0b/src/FEI_mv/femli/mli_utils.c:1944:50: warning: ignoring return value of 'fscanf', declared with attribute warn_unused_result [-Wunused-result]\n",
      "    for (irow = 0; irow < localNnz; irow++) fscanf(fp, \"%d\", &matJA[irow]);\n",
      "                                                  ^\n",
      "/home/juser/.julia/v0.3/Hypre/deps/src/hypre-2.9.0b/src/FEI_mv/femli/mli_utils.c:1945:50: warning: ignoring return value of 'fscanf', declared with attribute warn_unused_result [-Wunused-result]\n",
      "    for (irow = 0; irow < localNnz; irow++) fscanf(fp, \"%lg\", &matAA[irow]);\n",
      "                                                  ^\n",
      "/home/juser/.julia/v0.3/Hypre/deps/src/hypre-2.9.0b/src/FEI_mv/femli/mli_utils.c: In function 'MLI_Utils_DoubleVectorRead':\n",
      "/home/juser/.julia/v0.3/Hypre/deps/src/hypre-2.9.0b/src/FEI_mv/femli/mli_utils.c:2014:16: warning: ignoring return value of 'fscanf', declared with attribute warn_unused_result [-Wunused-result]\n",
      "          fscanf( fp, \"%d\", &globalNRows );\n",
      "                ^\n",
      "/home/juser/.julia/v0.3/Hypre/deps/src/hypre-2.9.0b/src/FEI_mv/femli/mli_utils.c:2027:16: warning: ignoring return value of 'fscanf', declared with attribute warn_unused_result [-Wunused-result]\n",
      "          fscanf( fp, \"%d %lg %d\", &k, &value, &k2 );\n",
      "                ^\n",
      "/home/juser/.julia/v0.3/Hypre/deps/src/hypre-2.9.0b/src/FEI_mv/femli/mli_utils.c:2032:16: warning: ignoring return value of 'fscanf', declared with attribute warn_unused_result [-Wunused-result]\n",
      "          fscanf( fp, \"%d\", &globalNRows );\n",
      "                ^\n",
      "/home/juser/.julia/v0.3/Hypre/deps/src/hypre-2.9.0b/src/FEI_mv/femli/mli_utils.c:2035:19: warning: ignoring return value of 'fscanf', declared with attribute warn_unused_result [-Wunused-result]\n",
      "             fscanf( fp, \"%d\", &k );\n",
      "                   ^\n",
      "/home/juser/.julia/v0.3/Hypre/deps/src/hypre-2.9.0b/src/FEI_mv/femli/mli_utils.c:2036:19: warning: ignoring return value of 'fscanf', declared with attribute warn_unused_result [-Wunused-result]\n",
      "             fscanf( fp, \"%lg\", &value );\n",
      "                   ^\n",
      "/home/juser/.julia/v0.3/Hypre/deps/src/hypre-2.9.0b/src/FEI_mv/femli/mli_utils.c:2037:41: warning: ignoring return value of 'fscanf', declared with attribute warn_unused_result [-Wunused-result]\n",
      "             if ( numparams == 3 ) fscanf( fp, \"%d\", &k2 );\n",
      "                                         ^\n",
      "/home/juser/.julia/v0.3/Hypre/deps/src/hypre-2.9.0b/src/FEI_mv/femli/mli_utils.c:2041:19: warning: ignoring return value of 'fscanf', declared with attribute warn_unused_result [-Wunused-result]\n",
      "             fscanf( fp, \"%d\", &k );\n",
      "                   ^\n",
      "/home/juser/.julia/v0.3/Hypre/deps/src/hypre-2.9.0b/src/FEI_mv/femli/mli_utils.c:2045:19: warning: ignoring return value of 'fscanf', declared with attribute warn_unused_result [-Wunused-result]\n",
      "             fscanf( fp, \"%lg\", &value );\n",
      "                   ^\n",
      "/home/juser/.julia/v0.3/Hypre/deps/src/hypre-2.9.0b/src/FEI_mv/femli/mli_utils.c:2046:41: warning: ignoring return value of 'fscanf', declared with attribute warn_unused_result [-Wunused-result]\n",
      "             if ( numparams == 3 ) fscanf( fp, \"%d\", &k2 );\n",
      "                                         ^\n",
      "/home/juser/.julia/v0.3/Hypre/deps/src/hypre-2.9.0b/src/FEI_mv/femli/mli_utils.c: In function 'MLI_Utils_DoubleParVectorRead':\n",
      "/home/juser/.julia/v0.3/Hypre/deps/src/hypre-2.9.0b/src/FEI_mv/femli/mli_utils.c:2082:10: warning: ignoring return value of 'fscanf', declared with attribute warn_unused_result [-Wunused-result]\n",
      "    fscanf( fp, \"%d\", &localNRows );\n",
      "          ^\n",
      "/home/juser/.julia/v0.3/Hypre/deps/src/hypre-2.9.0b/src/FEI_mv/femli/mli_utils.c:2091:13: warning: ignoring return value of 'fscanf', declared with attribute warn_unused_result [-Wunused-result]\n",
      "       fscanf( fp, \"%d %lg\", &k, &value );\n",
      "             ^\n"
     ]
    },
    {
     "name": "stdout",
     "output_type": "stream",
     "text": [
      "[  7%] Building CXX object FEI_mv/femli/CMakeFiles/HYPRE_mli.dir/mli_amgsa_calib.cxx.o\n",
      "[  8%] Building CXX object FEI_mv/femli/CMakeFiles/HYPRE_mli.dir/mli_amgsa_coarsen1.cxx.o\n",
      "[  8%] Building CXX object FEI_mv/femli/CMakeFiles/HYPRE_mli.dir/mli_amgsa_dd_fedata.cxx.o\n",
      "[  8%] Building CXX object FEI_mv/femli/CMakeFiles/HYPRE_mli.dir/mli_amgsa_dd_sfei.cxx.o\n",
      "[  8%] Building CXX object FEI_mv/femli/CMakeFiles/HYPRE_mli.dir/mli_method.cxx.o\n",
      "[  8%] Building CXX object FEI_mv/femli/CMakeFiles/HYPRE_mli.dir/mli_method_amgcr.cxx.o\n",
      "[  8%] Building CXX object FEI_mv/femli/CMakeFiles/HYPRE_mli.dir/mli_method_amgrs.cxx.o\n",
      "[  9%] Building CXX object FEI_mv/femli/CMakeFiles/HYPRE_mli.dir/mli_method_amgsa.cxx.o\n",
      "[  9%] Building CXX object FEI_mv/femli/CMakeFiles/HYPRE_mli.dir/mli.cxx.o\n",
      "[  9%] Building CXX object FEI_mv/femli/CMakeFiles/HYPRE_mli.dir/mli_oneLevel.cxx.o\n",
      "[  9%] Building CXX object FEI_mv/femli/CMakeFiles/HYPRE_mli.dir/cmli.cxx.o\n",
      "[  9%] Building CXX object FEI_mv/femli/CMakeFiles/HYPRE_mli.dir/mli_febase.cxx.o\n",
      "[  9%] Building CXX object FEI_mv/femli/CMakeFiles/HYPRE_mli.dir/mli_fedata.cxx.o\n"
     ]
    },
    {
     "name": "stderr",
     "output_type": "stream",
     "text": [
      "/home/juser/.julia/v0.3/Hypre/deps/src/hypre-2.9.0b/src/FEI_mv/femli/mli_fedata.cxx: In member function 'virtual int MLI_FEData::readFromFile(char*)':\n",
      "/home/juser/.julia/v0.3/Hypre/deps/src/hypre-2.9.0b/src/FEI_mv/femli/mli_fedata.cxx:3937:31: warning: ignoring return value of 'char* fgets(char*, int, FILE*)', declared with attribute warn_unused_result [-Wunused-result]\n",
      "    fgets(inputString, 100, fp);\n",
      "                               ^\n",
      "/home/juser/.julia/v0.3/Hypre/deps/src/hypre-2.9.0b/src/FEI_mv/femli/mli_fedata.cxx:3938:63: warning: ignoring return value of 'char* fgets(char*, int, FILE*)', declared with attribute warn_unused_result [-Wunused-result]\n",
      "    while ( inputString[0] == '#' ) fgets(inputString, 100, fp);\n",
      "                                                               ^\n",
      "/home/juser/.julia/v0.3/Hypre/deps/src/hypre-2.9.0b/src/FEI_mv/femli/mli_fedata.cxx:3940:32: warning: ignoring return value of 'int fscanf(FILE*, const char*, ...)', declared with attribute warn_unused_result [-Wunused-result]\n",
      "    fscanf(fp, \"%d\", &numFields);\n",
      "                                ^\n",
      "/home/juser/.julia/v0.3/Hypre/deps/src/hypre-2.9.0b/src/FEI_mv/femli/mli_fedata.cxx:3944:60: warning: ignoring return value of 'int fscanf(FILE*, const char*, ...)', declared with attribute warn_unused_result [-Wunused-result]\n",
      "       fscanf(fp, \"%d %d\", &(fieldIDs[i]), &(fieldSizes[i]));\n",
      "                                                            ^\n",
      "/home/juser/.julia/v0.3/Hypre/deps/src/hypre-2.9.0b/src/FEI_mv/femli/mli_fedata.cxx:3946:29: warning: ignoring return value of 'int fscanf(FILE*, const char*, ...)', declared with attribute warn_unused_result [-Wunused-result]\n",
      "    fscanf(fp, \"%d\", &nElems);\n",
      "                             ^\n",
      "/home/juser/.julia/v0.3/Hypre/deps/src/hypre-2.9.0b/src/FEI_mv/femli/mli_fedata.cxx:3947:36: warning: ignoring return value of 'int fscanf(FILE*, const char*, ...)', declared with attribute warn_unused_result [-Wunused-result]\n",
      "    fscanf(fp, \"%d\", &nNodesPerElem);\n",
      "                                    ^\n",
      "/home/juser/.julia/v0.3/Hypre/deps/src/hypre-2.9.0b/src/FEI_mv/femli/mli_fedata.cxx:3949:36: warning: ignoring return value of 'int fscanf(FILE*, const char*, ...)', declared with attribute warn_unused_result [-Wunused-result]\n",
      "    fscanf(fp, \"%d\", &elemNumFields);\n",
      "                                    ^\n",
      "/home/juser/.julia/v0.3/Hypre/deps/src/hypre-2.9.0b/src/FEI_mv/femli/mli_fedata.cxx:3951:74: warning: ignoring return value of 'int fscanf(FILE*, const char*, ...)', declared with attribute warn_unused_result [-Wunused-result]\n",
      "    for (i = 0; i < elemNumFields; i++) fscanf(fp, \"%d\", &elemFieldIDs[i]);\n",
      "                                                                          ^\n",
      "/home/juser/.julia/v0.3/Hypre/deps/src/hypre-2.9.0b/src/FEI_mv/femli/mli_fedata.cxx:3953:36: warning: ignoring return value of 'int fscanf(FILE*, const char*, ...)', declared with attribute warn_unused_result [-Wunused-result]\n",
      "    fscanf(fp, \"%d\", &nodeNumFields);\n",
      "                                    ^\n",
      "/home/juser/.julia/v0.3/Hypre/deps/src/hypre-2.9.0b/src/FEI_mv/femli/mli_fedata.cxx:3955:74: warning: ignoring return value of 'int fscanf(FILE*, const char*, ...)', declared with attribute warn_unused_result [-Wunused-result]\n",
      "    for (i = 0; i < nodeNumFields; i++) fscanf(fp, \"%d\", &nodeFieldIDs[i]);\n",
      "                                                                          ^\n",
      "/home/juser/.julia/v0.3/Hypre/deps/src/hypre-2.9.0b/src/FEI_mv/femli/mli_fedata.cxx:3958:64: warning: ignoring return value of 'int fscanf(FILE*, const char*, ...)', declared with attribute warn_unused_result [-Wunused-result]\n",
      "    for (i = 0; i < nElems; i++) fscanf(fp, \"%d\", &(elemIDs[i]));\n",
      "                                                                ^\n",
      "/home/juser/.julia/v0.3/Hypre/deps/src/hypre-2.9.0b/src/FEI_mv/femli/mli_fedata.cxx:3964:77: warning: ignoring return value of 'int fscanf(FILE*, const char*, ...)', declared with attribute warn_unused_result [-Wunused-result]\n",
      "       for (j = 0; j < nNodesPerElem; j++) fscanf(fp, \"%d\", &(IDLists[i][j]));\n",
      "                                                                             ^\n",
      "/home/juser/.julia/v0.3/Hypre/deps/src/hypre-2.9.0b/src/FEI_mv/femli/mli_fedata.cxx:3979:34: warning: ignoring return value of 'char* fgets(char*, int, FILE*)', declared with attribute warn_unused_result [-Wunused-result]\n",
      "       fgets(inputString, 100, fp);\n",
      "                                  ^\n",
      "/home/juser/.julia/v0.3/Hypre/deps/src/hypre-2.9.0b/src/FEI_mv/femli/mli_fedata.cxx:3980:66: warning: ignoring return value of 'char* fgets(char*, int, FILE*)', declared with attribute warn_unused_result [-Wunused-result]\n",
      "       while ( inputString[0] == '#' ) fgets(inputString, 100, fp);\n",
      "                                                                  ^\n",
      "/home/juser/.julia/v0.3/Hypre/deps/src/hypre-2.9.0b/src/FEI_mv/femli/mli_fedata.cxx:3982:34: warning: ignoring return value of 'int fscanf(FILE*, const char*, ...)', declared with attribute warn_unused_result [-Wunused-result]\n",
      "       fscanf(fp, \"%d\", &spaceDim);\n",
      "                                  ^\n",
      "/home/juser/.julia/v0.3/Hypre/deps/src/hypre-2.9.0b/src/FEI_mv/femli/mli_fedata.cxx:3987:41: warning: ignoring return value of 'int fscanf(FILE*, const char*, ...)', declared with attribute warn_unused_result [-Wunused-result]\n",
      "          fscanf(fp, \"%d\", &(nodeIDs[i]));\n",
      "                                         ^\n",
      "/home/juser/.julia/v0.3/Hypre/deps/src/hypre-2.9.0b/src/FEI_mv/femli/mli_fedata.cxx:3989:59: warning: ignoring return value of 'int fscanf(FILE*, const char*, ...)', declared with attribute warn_unused_result [-Wunused-result]\n",
      "             fscanf(fp, \"%lg\", &(nodeCoords[i*spaceDim+j]));\n",
      "                                                           ^\n",
      "/home/juser/.julia/v0.3/Hypre/deps/src/hypre-2.9.0b/src/FEI_mv/femli/mli_fedata.cxx:4060:34: warning: ignoring return value of 'char* fgets(char*, int, FILE*)', declared with attribute warn_unused_result [-Wunused-result]\n",
      "       fgets(inputString, 100, fp);\n",
      "                                  ^\n",
      "/home/juser/.julia/v0.3/Hypre/deps/src/hypre-2.9.0b/src/FEI_mv/femli/mli_fedata.cxx:4061:66: warning: ignoring return value of 'char* fgets(char*, int, FILE*)', declared with attribute warn_unused_result [-Wunused-result]\n",
      "       while ( inputString[0] == '#' ) fgets(inputString, 100, fp);\n",
      "                                                                  ^\n",
      "/home/juser/.julia/v0.3/Hypre/deps/src/hypre-2.9.0b/src/FEI_mv/femli/mli_fedata.cxx:4068:60: warning: ignoring return value of 'int fscanf(FILE*, const char*, ...)', declared with attribute warn_unused_result [-Wunused-result]\n",
      "          fscanf(fp, \"%d %d\", &(nodeIDs[i]), &(numProcs[i]));\n",
      "                                                            ^\n",
      "/home/juser/.julia/v0.3/Hypre/deps/src/hypre-2.9.0b/src/FEI_mv/femli/mli_fedata.cxx:4071:49: warning: ignoring return value of 'int fscanf(FILE*, const char*, ...)', declared with attribute warn_unused_result [-Wunused-result]\n",
      "             fscanf(fp, \"%d\", &(procLists[i][j]));\n",
      "                                                 ^\n",
      "/home/juser/.julia/v0.3/Hypre/deps/src/hypre-2.9.0b/src/FEI_mv/femli/mli_fedata.cxx:4092:31: warning: ignoring return value of 'char* fgets(char*, int, FILE*)', declared with attribute warn_unused_result [-Wunused-result]\n",
      "    fgets(inputString, 100, fp);\n",
      "                               ^\n",
      "/home/juser/.julia/v0.3/Hypre/deps/src/hypre-2.9.0b/src/FEI_mv/femli/mli_fedata.cxx:4093:63: warning: ignoring return value of 'char* fgets(char*, int, FILE*)', declared with attribute warn_unused_result [-Wunused-result]\n",
      "    while ( inputString[0] == '#' ) fgets(inputString, 100, fp);\n",
      "                                                               ^\n",
      "/home/juser/.julia/v0.3/Hypre/deps/src/hypre-2.9.0b/src/FEI_mv/femli/mli_fedata.cxx:4100:30: warning: ignoring return value of 'int fscanf(FILE*, const char*, ...)', declared with attribute warn_unused_result [-Wunused-result]\n",
      "    fscanf(fp, \"%d\", &eMatDim);\n",
      "                              ^\n",
      "/home/juser/.julia/v0.3/Hypre/deps/src/hypre-2.9.0b/src/FEI_mv/femli/mli_fedata.cxx:4108:58: warning: ignoring return value of 'int fscanf(FILE*, const char*, ...)', declared with attribute warn_unused_result [-Wunused-result]\n",
      "             fscanf(fp, \"%lg\", &(elemMat[i][k*eMatDim+j]));\n",
      "                                                          ^\n",
      "/home/juser/.julia/v0.3/Hypre/deps/src/hypre-2.9.0b/src/FEI_mv/femli/mli_fedata.cxx:4124:34: warning: ignoring return value of 'char* fgets(char*, int, FILE*)', declared with attribute warn_unused_result [-Wunused-result]\n",
      "       fgets(inputString, 100, fp);\n",
      "                                  ^\n",
      "/home/juser/.julia/v0.3/Hypre/deps/src/hypre-2.9.0b/src/FEI_mv/femli/mli_fedata.cxx:4125:66: warning: ignoring return value of 'char* fgets(char*, int, FILE*)', declared with attribute warn_unused_result [-Wunused-result]\n",
      "       while ( inputString[0] == '#' ) fgets(inputString, 100, fp);\n",
      "                                                                  ^\n",
      "/home/juser/.julia/v0.3/Hypre/deps/src/hypre-2.9.0b/src/FEI_mv/femli/mli_fedata.cxx:4138:41: warning: ignoring return value of 'int fscanf(FILE*, const char*, ...)', declared with attribute warn_unused_result [-Wunused-result]\n",
      "          fscanf(fp, \"%d\", &(nodeIDs[i]));\n",
      "                                         ^\n",
      "/home/juser/.julia/v0.3/Hypre/deps/src/hypre-2.9.0b/src/FEI_mv/femli/mli_fedata.cxx:4141:33: warning: ignoring return value of 'int fscanf(FILE*, const char*, ...)', declared with attribute warn_unused_result [-Wunused-result]\n",
      "             fscanf(fp, \"%d\", &k);\n",
      "                                 ^\n",
      "/home/juser/.julia/v0.3/Hypre/deps/src/hypre-2.9.0b/src/FEI_mv/femli/mli_fedata.cxx:4145:54: warning: ignoring return value of 'int fscanf(FILE*, const char*, ...)', declared with attribute warn_unused_result [-Wunused-result]\n",
      "                fscanf(fp, \"%lg\", &(nodeBCVals[i][j])); \n",
      "                                                      ^\n"
     ]
    },
    {
     "name": "stdout",
     "output_type": "stream",
     "text": [
      "[ 10%] Building CXX object FEI_mv/femli/CMakeFiles/HYPRE_mli.dir/mli_fedata_utils.cxx.o\n",
      "[ 10%] Building CXX object FEI_mv/femli/CMakeFiles/HYPRE_mli.dir/mli_sfei.cxx.o\n",
      "[ 10%] Building CXX object FEI_mv/femli/CMakeFiles/HYPRE_mli.dir/mli_mapper.cxx.o\n",
      "[ 10%] Building CXX object FEI_mv/femli/CMakeFiles/HYPRE_mli.dir/mli_matrix.cxx.o\n",
      "[ 10%] Building CXX object FEI_mv/femli/CMakeFiles/HYPRE_mli.dir/mli_matrix_mult.cxx.o\n",
      "[ 10%] Building CXX object FEI_mv/femli/CMakeFiles/HYPRE_mli.dir/mli_matrix_utils.cxx.o\n",
      "[ 11%] Building CXX object FEI_mv/femli/CMakeFiles/HYPRE_mli.dir/mli_solver.cxx.o\n",
      "[ 11%] Building CXX object FEI_mv/femli/CMakeFiles/HYPRE_mli.dir/mli_solver_jacobi.cxx.o\n",
      "[ 11%] Building CXX object FEI_mv/femli/CMakeFiles/HYPRE_mli.dir/mli_solver_bjacobi.cxx.o\n",
      "[ 11%] Building CXX object FEI_mv/femli/CMakeFiles/HYPRE_mli.dir/mli_solver_gs.cxx.o\n",
      "[ 11%] Building CXX object FEI_mv/femli/CMakeFiles/HYPRE_mli.dir/mli_solver_sgs.cxx.o\n",
      "[ 11%] Building CXX object FEI_mv/femli/CMakeFiles/HYPRE_mli.dir/mli_solver_bsgs.cxx.o\n",
      "[ 12%] Building CXX object FEI_mv/femli/CMakeFiles/HYPRE_mli.dir/mli_solver_hsgs.cxx.o\n",
      "[ 12%] Building CXX object FEI_mv/femli/CMakeFiles/HYPRE_mli.dir/mli_solver_hschwarz.cxx.o\n",
      "[ 12%] Building CXX object FEI_mv/femli/CMakeFiles/HYPRE_mli.dir/mli_solver_parasails.cxx.o\n",
      "[ 12%] Building CXX object FEI_mv/femli/CMakeFiles/HYPRE_mli.dir/mli_solver_mls.cxx.o\n",
      "[ 12%] Building CXX object FEI_mv/femli/CMakeFiles/HYPRE_mli.dir/mli_solver_mli.cxx.o\n",
      "[ 12%] Building CXX object FEI_mv/femli/CMakeFiles/HYPRE_mli.dir/mli_solver_amg.cxx.o\n",
      "[ 13%] Building CXX object FEI_mv/femli/CMakeFiles/HYPRE_mli.dir/mli_solver_chebyshev.cxx.o\n",
      "[ 13%] Building CXX object FEI_mv/femli/CMakeFiles/HYPRE_mli.dir/mli_solver_cg.cxx.o\n",
      "[ 13%] Building CXX object FEI_mv/femli/CMakeFiles/HYPRE_mli.dir/mli_solver_gmres.cxx.o\n",
      "[ 13%] Building CXX object FEI_mv/femli/CMakeFiles/HYPRE_mli.dir/mli_solver_kaczmarz.cxx.o\n",
      "[ 13%] Building CXX object FEI_mv/femli/CMakeFiles/HYPRE_mli.dir/mli_solver_superlu.cxx.o\n",
      "[ 13%] Building CXX object FEI_mv/femli/CMakeFiles/HYPRE_mli.dir/mli_solver_seqsuperlu.cxx.o\n",
      "[ 13%] Building CXX object FEI_mv/femli/CMakeFiles/HYPRE_mli.dir/mli_solver_arpacksuperlu.cxx.o\n",
      "[ 14%] Building CXX object FEI_mv/femli/CMakeFiles/HYPRE_mli.dir/mli_vector.cxx.o\n",
      "[ 14%] Built target HYPRE_mli\n",
      "Scanning dependencies of target HYPRE_superlu\n",
      "[ 14%] Building C object FEI_mv/SuperLU/CMakeFiles/HYPRE_superlu.dir/SRC/colamd.c.o\n",
      "[ 14%] Building C object FEI_mv/SuperLU/CMakeFiles/HYPRE_superlu.dir/SRC/dcolumn_bmod.c.o\n",
      "[ 14%] Building C object FEI_mv/SuperLU/CMakeFiles/HYPRE_superlu.dir/SRC/dcolumn_dfs.c.o\n",
      "[ 14%] Building C object FEI_mv/SuperLU/CMakeFiles/HYPRE_superlu.dir/SRC/dcopy_to_ucol.c.o\n",
      "[ 14%] Building C object FEI_mv/SuperLU/CMakeFiles/HYPRE_superlu.dir/SRC/dgscon.c.o\n",
      "[ 15%] Building C object FEI_mv/SuperLU/CMakeFiles/HYPRE_superlu.dir/SRC/dgsequ.c.o\n",
      "[ 15%] Building C object FEI_mv/SuperLU/CMakeFiles/HYPRE_superlu.dir/SRC/dgsrfs.c.o\n",
      "[ 15%] Building C object FEI_mv/SuperLU/CMakeFiles/HYPRE_superlu.dir/SRC/dgssv.c.o\n",
      "[ 15%] Building C object FEI_mv/SuperLU/CMakeFiles/HYPRE_superlu.dir/SRC/dgssvx.c.o\n",
      "[ 15%] Building C object FEI_mv/SuperLU/CMakeFiles/HYPRE_superlu.dir/SRC/dgstrf.c.o\n",
      "[ 15%] Building C object FEI_mv/SuperLU/CMakeFiles/HYPRE_superlu.dir/SRC/dgstrs.c.o\n",
      "[ 16%] Building C object FEI_mv/SuperLU/CMakeFiles/HYPRE_superlu.dir/SRC/dlacon.c.o\n",
      "[ 16%] Building C object FEI_mv/SuperLU/CMakeFiles/HYPRE_superlu.dir/SRC/dlangs.c.o\n",
      "[ 16%] Building C object FEI_mv/SuperLU/CMakeFiles/HYPRE_superlu.dir/SRC/dlaqgs.c.o\n",
      "[ 16%] Building C object FEI_mv/SuperLU/CMakeFiles/HYPRE_superlu.dir/SRC/dmemory.c.o\n",
      "[ 16%] Building C object FEI_mv/SuperLU/CMakeFiles/HYPRE_superlu.dir/SRC/dpanel_bmod.c.o\n",
      "[ 16%] Building C object FEI_mv/SuperLU/CMakeFiles/HYPRE_superlu.dir/SRC/dpanel_dfs.c.o\n",
      "[ 17%] Building C object FEI_mv/SuperLU/CMakeFiles/HYPRE_superlu.dir/SRC/dpivotgrowth.c.o\n",
      "[ 17%] Building C object FEI_mv/SuperLU/CMakeFiles/HYPRE_superlu.dir/SRC/dpivotL.c.o\n",
      "[ 17%] Building C object FEI_mv/SuperLU/CMakeFiles/HYPRE_superlu.dir/SRC/dpruneL.c.o\n"
     ]
    },
    {
     "name": "stderr",
     "output_type": "stream",
     "text": [
      "/home/juser/.julia/v0.3/Hypre/deps/src/hypre-2.9.0b/src/FEI_mv/SuperLU/SRC/dreadhb.c: In function 'dReadVector':\n",
      "/home/juser/.julia/v0.3/Hypre/deps/src/hypre-2.9.0b/src/FEI_mv/SuperLU/SRC/dreadhb.c:69:7: warning: ignoring return value of 'fgets', declared with attribute warn_unused_result [-Wunused-result]\n",
      "  fgets(buf, 100, fp);    /* read a line at a time */\n",
      "       ^\n"
     ]
    },
    {
     "name": "stdout",
     "output_type": "stream",
     "text": [
      "[ 17%] Building C object FEI_mv/SuperLU/CMakeFiles/HYPRE_superlu.dir/SRC/dreadhb.c.o\n"
     ]
    },
    {
     "name": "stderr",
     "output_type": "stream",
     "text": [
      "/home/juser/.julia/v0.3/Hypre/deps/src/hypre-2.9.0b/src/FEI_mv/SuperLU/SRC/dreadhb.c: In function 'dReadValues':\n",
      "/home/juser/.julia/v0.3/Hypre/deps/src/hypre-2.9.0b/src/FEI_mv/SuperLU/SRC/dreadhb.c:89:7: warning: ignoring return value of 'fgets', declared with attribute warn_unused_result [-Wunused-result]\n",
      "  fgets(buf, 100, fp);    /* read a line at a time */\n",
      "       ^\n",
      "/home/juser/.julia/v0.3/Hypre/deps/src/hypre-2.9.0b/src/FEI_mv/SuperLU/SRC/dreadhb.c: In function 'dreadhb':\n",
      "/home/juser/.julia/v0.3/Hypre/deps/src/hypre-2.9.0b/src/FEI_mv/SuperLU/SRC/dreadhb.c:188:10: warning: ignoring return value of 'fgets', declared with attribute warn_unused_result [-Wunused-result]\n",
      "     fgets(buf, 100, fp);\n",
      "          ^\n",
      "/home/juser/.julia/v0.3/Hypre/deps/src/hypre-2.9.0b/src/FEI_mv/SuperLU/SRC/dreadhb.c:200:8: warning: ignoring return value of 'fscanf', declared with attribute warn_unused_result [-Wunused-result]\n",
      "  fscanf(fp, \"%14c\", buf); buf[14] = 0;\n",
      "        ^\n",
      "/home/juser/.julia/v0.3/Hypre/deps/src/hypre-2.9.0b/src/FEI_mv/SuperLU/SRC/dreadhb.c:208:11: warning: ignoring return value of 'fscanf', declared with attribute warn_unused_result [-Wunused-result]\n",
      "     fscanf(fp, \"%3c\", type);\n",
      "           ^\n",
      "/home/juser/.julia/v0.3/Hypre/deps/src/hypre-2.9.0b/src/FEI_mv/SuperLU/SRC/dreadhb.c:209:11: warning: ignoring return value of 'fscanf', declared with attribute warn_unused_result [-Wunused-result]\n",
      "     fscanf(fp, \"%11c\", buf); /* pad */\n",
      "           ^\n",
      "/home/juser/.julia/v0.3/Hypre/deps/src/hypre-2.9.0b/src/FEI_mv/SuperLU/SRC/dreadhb.c:215:11: warning: ignoring return value of 'fscanf', declared with attribute warn_unused_result [-Wunused-result]\n",
      "     fscanf(fp, \"%14c\", buf); sscanf(buf, \"%d\", nrow);\n",
      "           ^\n",
      "/home/juser/.julia/v0.3/Hypre/deps/src/hypre-2.9.0b/src/FEI_mv/SuperLU/SRC/dreadhb.c:216:11: warning: ignoring return value of 'fscanf', declared with attribute warn_unused_result [-Wunused-result]\n",
      "     fscanf(fp, \"%14c\", buf); sscanf(buf, \"%d\", ncol);\n",
      "           ^\n",
      "/home/juser/.julia/v0.3/Hypre/deps/src/hypre-2.9.0b/src/FEI_mv/SuperLU/SRC/dreadhb.c:217:11: warning: ignoring return value of 'fscanf', declared with attribute warn_unused_result [-Wunused-result]\n",
      "     fscanf(fp, \"%14c\", buf); sscanf(buf, \"%d\", nonz);\n",
      "           ^\n",
      "/home/juser/.julia/v0.3/Hypre/deps/src/hypre-2.9.0b/src/FEI_mv/SuperLU/SRC/dreadhb.c:218:11: warning: ignoring return value of 'fscanf', declared with attribute warn_unused_result [-Wunused-result]\n",
      "     fscanf(fp, \"%14c\", buf); sscanf(buf, \"%d\", &tmp);\n",
      "           ^\n",
      "/home/juser/.julia/v0.3/Hypre/deps/src/hypre-2.9.0b/src/FEI_mv/SuperLU/SRC/dreadhb.c:230:11: warning: ignoring return value of 'fscanf', declared with attribute warn_unused_result [-Wunused-result]\n",
      "     fscanf(fp, \"%16c\", buf);\n",
      "           ^\n",
      "/home/juser/.julia/v0.3/Hypre/deps/src/hypre-2.9.0b/src/FEI_mv/SuperLU/SRC/dreadhb.c:232:11: warning: ignoring return value of 'fscanf', declared with attribute warn_unused_result [-Wunused-result]\n",
      "     fscanf(fp, \"%16c\", buf);\n",
      "           ^\n",
      "/home/juser/.julia/v0.3/Hypre/deps/src/hypre-2.9.0b/src/FEI_mv/SuperLU/SRC/dreadhb.c:234:11: warning: ignoring return value of 'fscanf', declared with attribute warn_unused_result [-Wunused-result]\n",
      "     fscanf(fp, \"%20c\", buf);\n",
      "           ^\n",
      "/home/juser/.julia/v0.3/Hypre/deps/src/hypre-2.9.0b/src/FEI_mv/SuperLU/SRC/dreadhb.c:236:11: warning: ignoring return value of 'fscanf', declared with attribute warn_unused_result [-Wunused-result]\n",
      "     fscanf(fp, \"%20c\", buf);\n",
      "           ^\n"
     ]
    },
    {
     "name": "stdout",
     "output_type": "stream",
     "text": [
      "[ 17%] Building C object FEI_mv/SuperLU/CMakeFiles/HYPRE_superlu.dir/SRC/dsnode_bmod.c.o\n",
      "[ 17%] Building C object FEI_mv/SuperLU/CMakeFiles/HYPRE_superlu.dir/SRC/dsnode_dfs.c.o\n",
      "[ 18%] Building C object FEI_mv/SuperLU/CMakeFiles/HYPRE_superlu.dir/SRC/dsp_blas2.c.o\n",
      "[ 18%] Building C object FEI_mv/SuperLU/CMakeFiles/HYPRE_superlu.dir/SRC/dsp_blas3.c.o\n",
      "[ 18%] Building C object FEI_mv/SuperLU/CMakeFiles/HYPRE_superlu.dir/SRC/dutil.c.o\n",
      "[ 18%] Building C object FEI_mv/SuperLU/CMakeFiles/HYPRE_superlu.dir/SRC/get_perm_c.c.o\n",
      "[ 18%] Building C object FEI_mv/SuperLU/CMakeFiles/HYPRE_superlu.dir/SRC/heap_relax_snode.c.o\n",
      "[ 18%] Building C object FEI_mv/SuperLU/CMakeFiles/HYPRE_superlu.dir/SRC/memory.c.o\n",
      "[ 19%] Building C object FEI_mv/SuperLU/CMakeFiles/HYPRE_superlu.dir/SRC/mmd.c.o\n",
      "[ 19%] Building C object FEI_mv/SuperLU/CMakeFiles/HYPRE_superlu.dir/SRC/relax_snode.c.o\n",
      "[ 19%] Building C object FEI_mv/SuperLU/CMakeFiles/HYPRE_superlu.dir/SRC/sp_coletree.c.o\n",
      "[ 19%] Building C object FEI_mv/SuperLU/CMakeFiles/HYPRE_superlu.dir/SRC/sp_ienv.c.o\n",
      "[ 19%] Building C object FEI_mv/SuperLU/CMakeFiles/HYPRE_superlu.dir/SRC/sp_preorder.c.o\n",
      "[ 19%] Building C object FEI_mv/SuperLU/CMakeFiles/HYPRE_superlu.dir/SRC/superlu_timer.c.o\n",
      "[ 20%] "
     ]
    },
    {
     "name": "stderr",
     "output_type": "stream",
     "text": [
      "/home/juser/.julia/v0.3/Hypre/deps/src/hypre-2.9.0b/src/FEI_mv/SuperLU/SRC/slu_util.c: In function 'superlu_abort_and_exit':\n"
     ]
    },
    {
     "name": "stdout",
     "output_type": "stream",
     "text": [
      "Building C object FEI_mv/SuperLU/CMakeFiles/HYPRE_superlu.dir/SRC/slu_util.c.o\n"
     ]
    },
    {
     "name": "stderr",
     "output_type": "stream",
     "text": [
      "/home/juser/.julia/v0.3/Hypre/deps/src/hypre-2.9.0b/src/FEI_mv/SuperLU/SRC/slu_util.c:34:5: warning: format not a string literal and no format arguments [-Wformat-security]\n",
      "     fprintf(stderr, msg);\n",
      "     ^\n"
     ]
    },
    {
     "name": "stdout",
     "output_type": "stream",
     "text": [
      "[ 20%] Built target HYPRE_superlu\n",
      "Scanning dependencies of target HYPRE\n",
      "[ 20%] Building C object CMakeFiles/HYPRE.dir/blas/blas_utils.c.o\n",
      "[ 20%] Building C object CMakeFiles/HYPRE.dir/blas/dasum.c.o\n",
      "[ 20%] Building C object CMakeFiles/HYPRE.dir/blas/daxpy.c.o\n",
      "[ 20%] Building C object CMakeFiles/HYPRE.dir/blas/dcopy.c.o\n",
      "[ 20%] Building C object CMakeFiles/HYPRE.dir/blas/ddot.c.o\n",
      "[ 20%] Building C object CMakeFiles/HYPRE.dir/blas/dgemm.c.o\n",
      "[ 21%] Building C object CMakeFiles/HYPRE.dir/blas/dgemv.c.o\n",
      "[ 21%] Building C object CMakeFiles/HYPRE.dir/blas/dger.c.o\n",
      "[ 21%] Building C object CMakeFiles/HYPRE.dir/blas/dnrm2.c.o\n",
      "[ 21%] Building C object CMakeFiles/HYPRE.dir/blas/drot.c.o\n",
      "[ 21%] Building C object CMakeFiles/HYPRE.dir/blas/dscal.c.o\n",
      "[ 21%] Building C object CMakeFiles/HYPRE.dir/blas/dswap.c.o\n",
      "[ 22%] Building C object CMakeFiles/HYPRE.dir/blas/dsymm.c.o\n",
      "[ 22%] Building C object CMakeFiles/HYPRE.dir/blas/dsymv.c.o\n",
      "[ 22%] Building C object CMakeFiles/HYPRE.dir/blas/dsyr2.c.o\n",
      "[ 22%] Building C object CMakeFiles/HYPRE.dir/blas/dsyr2k.c.o\n",
      "[ 22%] Building C object CMakeFiles/HYPRE.dir/blas/dsyrk.c.o\n",
      "[ 22%] Building C object CMakeFiles/HYPRE.dir/blas/dtrmm.c.o\n",
      "[ 23%] Building C object CMakeFiles/HYPRE.dir/blas/dtrmv.c.o\n",
      "[ 23%] Building C object CMakeFiles/HYPRE.dir/blas/dtrsm.c.o\n",
      "[ 23%] Building C object CMakeFiles/HYPRE.dir/blas/dtrsv.c.o\n",
      "[ 23%] Building C object CMakeFiles/HYPRE.dir/blas/idamax.c.o\n",
      "[ 23%] Building C object CMakeFiles/HYPRE.dir/lapack/dbdsqr.c.o\n",
      "[ 23%] Building C object CMakeFiles/HYPRE.dir/lapack/dgebd2.c.o\n",
      "[ 24%] Building C object CMakeFiles/HYPRE.dir/lapack/dgebrd.c.o\n",
      "[ 24%] Building C object CMakeFiles/HYPRE.dir/lapack/dgelq2.c.o\n",
      "[ 24%] Building C object CMakeFiles/HYPRE.dir/lapack/dgelqf.c.o\n",
      "[ 24%] Building C object CMakeFiles/HYPRE.dir/lapack/dgels.c.o\n",
      "[ 24%] Building C object CMakeFiles/HYPRE.dir/lapack/dgeqr2.c.o\n",
      "[ 24%] Building C object CMakeFiles/HYPRE.dir/lapack/dgeqrf.c.o\n",
      "[ 25%] Building C object CMakeFiles/HYPRE.dir/lapack/dgesvd.c.o\n",
      "[ 25%] Building C object CMakeFiles/HYPRE.dir/lapack/dgetrf.c.o\n",
      "[ 25%] Building C object CMakeFiles/HYPRE.dir/lapack/dgetrs.c.o\n",
      "[ 25%] Building C object CMakeFiles/HYPRE.dir/lapack/dgetf2.c.o\n",
      "[ 25%] Building C object CMakeFiles/HYPRE.dir/lapack/dlabad.c.o\n",
      "[ 25%] Building C object CMakeFiles/HYPRE.dir/lapack/dlabrd.c.o\n",
      "[ 26%] Building C object CMakeFiles/HYPRE.dir/lapack/dlacpy.c.o\n",
      "[ 26%] Building C object CMakeFiles/HYPRE.dir/lapack/dlae2.c.o\n",
      "[ 26%] Building C object CMakeFiles/HYPRE.dir/lapack/dlaev2.c.o\n",
      "[ 26%] Building C object CMakeFiles/HYPRE.dir/lapack/dlamch.c.o\n",
      "[ 26%] Building C object CMakeFiles/HYPRE.dir/lapack/dlange.c.o\n",
      "[ 26%] Building C object CMakeFiles/HYPRE.dir/lapack/dlanst.c.o\n",
      "[ 26%] Building C object CMakeFiles/HYPRE.dir/lapack/dlansy.c.o\n",
      "[ 27%] Building C object CMakeFiles/HYPRE.dir/lapack/dlapy2.c.o\n",
      "[ 27%] Building C object CMakeFiles/HYPRE.dir/lapack/dlarfb.c.o\n",
      "[ 27%] Building C object CMakeFiles/HYPRE.dir/lapack/dlarf.c.o\n",
      "[ 27%] Building C object CMakeFiles/HYPRE.dir/lapack/dlarfg.c.o\n",
      "[ 27%] Building C object CMakeFiles/HYPRE.dir/lapack/dlarft.c.o\n",
      "[ 27%] Building C object CMakeFiles/HYPRE.dir/lapack/dlartg.c.o\n",
      "[ 28%] Building C object CMakeFiles/HYPRE.dir/lapack/dlas2.c.o\n",
      "[ 28%] Building C object CMakeFiles/HYPRE.dir/lapack/dlascl.c.o\n",
      "[ 28%] Building C object CMakeFiles/HYPRE.dir/lapack/dlaset.c.o\n",
      "[ 28%] Building C object CMakeFiles/HYPRE.dir/lapack/dlasq1.c.o\n",
      "[ 28%] Building C object CMakeFiles/HYPRE.dir/lapack/dlasq2.c.o\n",
      "[ 28%] Building C object CMakeFiles/HYPRE.dir/lapack/dlasq3.c.o\n",
      "[ 29%] Building C object CMakeFiles/HYPRE.dir/lapack/dlasq4.c.o\n",
      "[ 29%] Building C object CMakeFiles/HYPRE.dir/lapack/dlasq5.c.o\n",
      "[ 29%] Building C object CMakeFiles/HYPRE.dir/lapack/dlasq6.c.o\n",
      "[ 29%] Building C object CMakeFiles/HYPRE.dir/lapack/dlasr.c.o\n",
      "[ 29%] Building C object CMakeFiles/HYPRE.dir/lapack/dlasrt.c.o\n",
      "[ 29%] Building C object CMakeFiles/HYPRE.dir/lapack/dlassq.c.o\n",
      "[ 30%] Building C object CMakeFiles/HYPRE.dir/lapack/dlaswp.c.o\n",
      "[ 30%] Building C object CMakeFiles/HYPRE.dir/lapack/dlasv2.c.o\n",
      "[ 30%] Building C object CMakeFiles/HYPRE.dir/lapack/dlatrd.c.o\n",
      "[ 30%] Building C object CMakeFiles/HYPRE.dir/lapack/dorg2l.c.o\n",
      "[ 30%] Building C object CMakeFiles/HYPRE.dir/lapack/dorg2r.c.o\n",
      "[ 30%] Building C object CMakeFiles/HYPRE.dir/lapack/dorgbr.c.o\n",
      "[ 31%] Building C object CMakeFiles/HYPRE.dir/lapack/dorgl2.c.o\n",
      "[ 31%] Building C object CMakeFiles/HYPRE.dir/lapack/dorglq.c.o\n",
      "[ 31%] Building C object CMakeFiles/HYPRE.dir/lapack/dorgql.c.o\n",
      "[ 31%] Building C object CMakeFiles/HYPRE.dir/lapack/dorgqr.c.o\n",
      "[ 31%] Building C object CMakeFiles/HYPRE.dir/lapack/dorgtr.c.o\n",
      "[ 31%] Building C object CMakeFiles/HYPRE.dir/lapack/dorm2r.c.o\n",
      "[ 32%] Building C object CMakeFiles/HYPRE.dir/lapack/dormbr.c.o\n",
      "[ 32%] Building C object CMakeFiles/HYPRE.dir/lapack/dorml2.c.o\n",
      "[ 32%] Building C object CMakeFiles/HYPRE.dir/lapack/dormlq.c.o\n",
      "[ 32%] Building C object CMakeFiles/HYPRE.dir/lapack/dormqr.c.o\n",
      "[ 32%] Building C object CMakeFiles/HYPRE.dir/lapack/dpotf2.c.o\n",
      "[ 32%] Building C object CMakeFiles/HYPRE.dir/lapack/dpotrf.c.o\n",
      "[ 32%] Building C object CMakeFiles/HYPRE.dir/lapack/dpotrs.c.o\n",
      "[ 33%] Building C object CMakeFiles/HYPRE.dir/lapack/dsteqr.c.o\n",
      "[ 33%] Building C object CMakeFiles/HYPRE.dir/lapack/dsterf.c.o\n",
      "[ 33%] Building C object CMakeFiles/HYPRE.dir/lapack/dsyev.c.o\n",
      "[ 33%] Building C object CMakeFiles/HYPRE.dir/lapack/dsygs2.c.o\n",
      "[ 33%] Building C object CMakeFiles/HYPRE.dir/lapack/dsygst.c.o\n",
      "[ 33%] Building C object CMakeFiles/HYPRE.dir/lapack/dsygv.c.o\n",
      "[ 34%] Building C object CMakeFiles/HYPRE.dir/lapack/dsytd2.c.o\n",
      "[ 34%] Building C object CMakeFiles/HYPRE.dir/lapack/dsytrd.c.o\n",
      "[ 34%] Building C object CMakeFiles/HYPRE.dir/lapack/ieeeck.c.o\n",
      "[ 34%] Building C object CMakeFiles/HYPRE.dir/lapack/ilaenv.c.o\n",
      "[ 34%] Building C object CMakeFiles/HYPRE.dir/lapack/lapack_utils.c.o\n",
      "[ 34%] Building C object CMakeFiles/HYPRE.dir/lapack/lsame.c.o\n",
      "[ 35%] Building C object CMakeFiles/HYPRE.dir/lapack/xerbla.c.o\n",
      "[ 35%] Building C object CMakeFiles/HYPRE.dir/utilities/amg_linklist.c.o\n",
      "[ 35%] Building C object CMakeFiles/HYPRE.dir/utilities/binsearch.c.o\n",
      "[ 35%] Building C object CMakeFiles/HYPRE.dir/utilities/exchange_data.c.o\n",
      "[ 35%] Building C object CMakeFiles/HYPRE.dir/utilities/F90_HYPRE_error.c.o\n",
      "[ 35%] Building C object CMakeFiles/HYPRE.dir/utilities/fortran_matrix.c.o\n",
      "[ 36%] Building C object CMakeFiles/HYPRE.dir/utilities/hypre_ap.c.o\n",
      "[ 36%] Building C object CMakeFiles/HYPRE.dir/utilities/hypre_error.c.o\n",
      "[ 36%] Building C object CMakeFiles/HYPRE.dir/utilities/hypre_memory.c.o\n",
      "[ 36%] Building C object CMakeFiles/HYPRE.dir/utilities/hypre_mpi_comm_f2c.c.o\n",
      "[ 36%] Building C object CMakeFiles/HYPRE.dir/utilities/hypre_printf.c.o\n",
      "[ 36%] Building C object CMakeFiles/HYPRE.dir/utilities/hypre_qsort.c.o\n",
      "[ 37%] "
     ]
    },
    {
     "name": "stderr",
     "output_type": "stream",
     "text": [
      "/home/juser/.julia/v0.3/Hypre/deps/src/hypre-2.9.0b/src/utilities/mpistubs.c: In function 'hypre_MPI_Comm_f2c':\n"
     ]
    },
    {
     "name": "stdout",
     "output_type": "stream",
     "text": [
      "Building C object CMakeFiles/HYPRE.dir/utilities/memory_dmalloc.c.o\n",
      "[ 37%] Building C object CMakeFiles/HYPRE.dir/utilities/mpistubs.c.o\n"
     ]
    },
    {
     "name": "stderr",
     "output_type": "stream",
     "text": [
      "/home/juser/.julia/v0.3/Hypre/deps/src/hypre-2.9.0b/src/utilities/mpistubs.c:28:11: warning: cast to pointer from integer of different size [-Wint-to-pointer-cast]\n",
      "    return (hypre_MPI_Comm) comm;\n",
      "           ^\n"
     ]
    },
    {
     "name": "stdout",
     "output_type": "stream",
     "text": [
      "[ 37%] Building C object CMakeFiles/HYPRE.dir/utilities/qsplit.c.o\n",
      "[ 37%] Building C object CMakeFiles/HYPRE.dir/utilities/random.c.o\n",
      "[ 37%] Building C object CMakeFiles/HYPRE.dir/utilities/threading.c.o\n",
      "[ 37%] Building C object CMakeFiles/HYPRE.dir/utilities/thread_mpistubs.c.o\n",
      "[ 38%] Building C object CMakeFiles/HYPRE.dir/utilities/timer.c.o\n",
      "[ 38%] Building C object CMakeFiles/HYPRE.dir/utilities/timing.c.o\n",
      "[ 38%] Building C object CMakeFiles/HYPRE.dir/utilities/umalloc_local.c.o\n",
      "[ 38%] Building C object CMakeFiles/HYPRE.dir/multivector/multivector.c.o\n",
      "[ 38%] Building C object CMakeFiles/HYPRE.dir/multivector/temp_multivector.c.o\n",
      "[ 38%] Building C object CMakeFiles/HYPRE.dir/krylov/bicgstab.c.o\n",
      "[ 38%] Building C object CMakeFiles/HYPRE.dir/krylov/cgnr.c.o\n",
      "[ 39%] Building C object CMakeFiles/HYPRE.dir/krylov/gmres.c.o\n",
      "[ 39%] Building C object CMakeFiles/HYPRE.dir/krylov/flexgmres.c.o\n",
      "[ 39%] Building C object CMakeFiles/HYPRE.dir/krylov/lgmres.c.o\n",
      "[ 39%] Building C object CMakeFiles/HYPRE.dir/krylov/HYPRE_bicgstab.c.o\n",
      "[ 39%] Building C object CMakeFiles/HYPRE.dir/krylov/HYPRE_cgnr.c.o\n",
      "[ 39%] Building C object CMakeFiles/HYPRE.dir/krylov/HYPRE_gmres.c.o\n",
      "[ 40%] Building C object CMakeFiles/HYPRE.dir/krylov/HYPRE_lgmres.c.o\n",
      "[ 40%] Building C object CMakeFiles/HYPRE.dir/krylov/HYPRE_flexgmres.c.o\n",
      "[ 40%] Building C object CMakeFiles/HYPRE.dir/krylov/HYPRE_pcg.c.o\n",
      "[ 40%] Building C object CMakeFiles/HYPRE.dir/krylov/pcg.c.o\n",
      "[ 40%] Building C object CMakeFiles/HYPRE.dir/krylov/HYPRE_lobpcg.c.o\n",
      "[ 40%] Building C object CMakeFiles/HYPRE.dir/krylov/lobpcg.c.o\n",
      "[ 41%] Building C object CMakeFiles/HYPRE.dir/seq_mv/csr_matop.c.o\n",
      "[ 41%] Building C object CMakeFiles/HYPRE.dir/seq_mv/csr_matrix.c.o\n"
     ]
    },
    {
     "name": "stderr",
     "output_type": "stream",
     "text": [
      "/home/juser/.julia/v0.3/Hypre/deps/src/hypre-2.9.0b/src/seq_mv/csr_matrix.c: In function 'hypre_CSRMatrixRead':\n",
      "/home/juser/.julia/v0.3/Hypre/deps/src/hypre-2.9.0b/src/seq_mv/csr_matrix.c:188:16: warning: ignoring return value of 'fscanf', declared with attribute warn_unused_result [-Wunused-result]\n",
      "    hypre_fscanf(fp, \"%d\", &num_rows);\n",
      "                ^\n",
      "/home/juser/.julia/v0.3/Hypre/deps/src/hypre-2.9.0b/src/seq_mv/csr_matrix.c:193:19: warning: ignoring return value of 'fscanf', declared with attribute warn_unused_result [-Wunused-result]\n",
      "       hypre_fscanf(fp, \"%d\", &matrix_i[j]);\n",
      "                   ^\n",
      "/home/juser/.julia/v0.3/Hypre/deps/src/hypre-2.9.0b/src/seq_mv/csr_matrix.c:206:19: warning: ignoring return value of 'fscanf', declared with attribute warn_unused_result [-Wunused-result]\n",
      "       hypre_fscanf(fp, \"%d\", &matrix_j[j]);\n",
      "                   ^\n",
      "/home/juser/.julia/v0.3/Hypre/deps/src/hypre-2.9.0b/src/seq_mv/csr_matrix.c:218:19: warning: ignoring return value of 'fscanf', declared with attribute warn_unused_result [-Wunused-result]\n",
      "       hypre_fscanf(fp, \"%le\", &matrix_data[j]);\n",
      "                   ^\n"
     ]
    },
    {
     "name": "stdout",
     "output_type": "stream",
     "text": [
      "[ 41%] Building C object CMakeFiles/HYPRE.dir/seq_mv/csr_matvec.c.o\n",
      "[ 41%] Building C object CMakeFiles/HYPRE.dir/seq_mv/genpart.c.o\n",
      "[ 41%] Building C object CMakeFiles/HYPRE.dir/seq_mv/HYPRE_csr_matrix.c.o\n",
      "[ 41%] Building C object CMakeFiles/HYPRE.dir/seq_mv/HYPRE_mapped_matrix.c.o\n",
      "[ 42%] Building C object CMakeFiles/HYPRE.dir/seq_mv/HYPRE_multiblock_matrix.c.o\n",
      "[ 42%] Building C object CMakeFiles/HYPRE.dir/seq_mv/HYPRE_vector.c.o\n",
      "[ 42%] Building C object CMakeFiles/HYPRE.dir/seq_mv/mapped_matrix.c.o\n",
      "[ 42%] Building C object CMakeFiles/HYPRE.dir/seq_mv/multiblock_matrix.c.o\n"
     ]
    },
    {
     "name": "stderr",
     "output_type": "stream",
     "text": [
      "/home/juser/.julia/v0.3/Hypre/deps/src/hypre-2.9.0b/src/seq_mv/vector.c: In function 'hypre_SeqVectorRead':\n"
     ]
    },
    {
     "name": "stdout",
     "output_type": "stream",
     "text": [
      "[ 42%] Building C object CMakeFiles/HYPRE.dir/seq_mv/vector.c.o\n"
     ]
    },
    {
     "name": "stderr",
     "output_type": "stream",
     "text": [
      "/home/juser/.julia/v0.3/Hypre/deps/src/hypre-2.9.0b/src/seq_mv/vector.c:150:16: warning: ignoring return value of 'fscanf', declared with attribute warn_unused_result [-Wunused-result]\n",
      "    hypre_fscanf(fp, \"%d\", &size);\n",
      "                ^\n",
      "/home/juser/.julia/v0.3/Hypre/deps/src/hypre-2.9.0b/src/seq_mv/vector.c:158:19: warning: ignoring return value of 'fscanf', declared with attribute warn_unused_result [-Wunused-result]\n",
      "       hypre_fscanf(fp, \"%le\", &data[j]);\n",
      "                   ^\n"
     ]
    },
    {
     "name": "stdout",
     "output_type": "stream",
     "text": [
      "[ 42%] Building C object CMakeFiles/HYPRE.dir/parcsr_mv/communicationT.c.o\n",
      "[ 43%] Building C object CMakeFiles/HYPRE.dir/parcsr_mv/F90_HYPRE_parcsr_matrix.c.o\n",
      "[ 43%] Building C object CMakeFiles/HYPRE.dir/parcsr_mv/F90_HYPRE_parcsr_vector.c.o\n",
      "[ 43%] Building C object CMakeFiles/HYPRE.dir/parcsr_mv/F90_parcsr_matrix.c.o\n",
      "[ 43%] Building C object CMakeFiles/HYPRE.dir/parcsr_mv/F90_par_vector.c.o\n",
      "[ 43%] Building C object CMakeFiles/HYPRE.dir/parcsr_mv/HYPRE_parcsr_matrix.c.o\n",
      "[ 43%] Building C object CMakeFiles/HYPRE.dir/parcsr_mv/HYPRE_parcsr_vector.c.o\n",
      "[ 44%] Building C object CMakeFiles/HYPRE.dir/parcsr_mv/new_commpkg.c.o\n",
      "[ 44%] Building C object CMakeFiles/HYPRE.dir/parcsr_mv/numbers.c.o\n",
      "[ 44%] Building C object CMakeFiles/HYPRE.dir/parcsr_mv/par_csr_aat.c.o\n",
      "[ 44%] Building C object CMakeFiles/HYPRE.dir/parcsr_mv/par_csr_assumed_part.c.o\n",
      "[ 44%] Building C object CMakeFiles/HYPRE.dir/parcsr_mv/par_csr_bool_matop.c.o\n",
      "[ 44%] "
     ]
    },
    {
     "name": "stderr",
     "output_type": "stream",
     "text": [
      "/home/juser/.julia/v0.3/Hypre/deps/src/hypre-2.9.0b/src/parcsr_mv/par_csr_bool_matrix.c: In function 'hypre_CSRBooleanMatrixRead':\n"
     ]
    },
    {
     "name": "stdout",
     "output_type": "stream",
     "text": [
      "Building C object CMakeFiles/HYPRE.dir/parcsr_mv/par_csr_bool_matrix.c.o\n"
     ]
    },
    {
     "name": "stderr",
     "output_type": "stream",
     "text": [
      "/home/juser/.julia/v0.3/Hypre/deps/src/hypre-2.9.0b/src/parcsr_mv/par_csr_bool_matrix.c:116:16: warning: ignoring return value of 'fscanf', declared with attribute warn_unused_result [-Wunused-result]\n",
      "    hypre_fscanf(fp, \"%d\", &num_rows);\n",
      "                ^\n",
      "/home/juser/.julia/v0.3/Hypre/deps/src/hypre-2.9.0b/src/parcsr_mv/par_csr_bool_matrix.c:121:19: warning: ignoring return value of 'fscanf', declared with attribute warn_unused_result [-Wunused-result]\n",
      "       hypre_fscanf(fp, \"%d\", &matrix_i[j]);\n",
      "                   ^\n",
      "/home/juser/.julia/v0.3/Hypre/deps/src/hypre-2.9.0b/src/parcsr_mv/par_csr_bool_matrix.c:134:19: warning: ignoring return value of 'fscanf', declared with attribute warn_unused_result [-Wunused-result]\n",
      "       hypre_fscanf(fp, \"%d\", &matrix_j[j]);\n",
      "                   ^\n",
      "/home/juser/.julia/v0.3/Hypre/deps/src/hypre-2.9.0b/src/parcsr_mv/par_csr_bool_matrix.c: In function 'hypre_ParCSRBooleanMatrixRead':\n",
      "/home/juser/.julia/v0.3/Hypre/deps/src/hypre-2.9.0b/src/parcsr_mv/par_csr_bool_matrix.c:399:16: warning: ignoring return value of 'fscanf', declared with attribute warn_unused_result [-Wunused-result]\n",
      "    hypre_fscanf(fp, \"%d\", &global_num_rows);\n",
      "                ^\n",
      "/home/juser/.julia/v0.3/Hypre/deps/src/hypre-2.9.0b/src/parcsr_mv/par_csr_bool_matrix.c:400:16: warning: ignoring return value of 'fscanf', declared with attribute warn_unused_result [-Wunused-result]\n",
      "    hypre_fscanf(fp, \"%d\", &global_num_cols);\n",
      "                ^\n",
      "/home/juser/.julia/v0.3/Hypre/deps/src/hypre-2.9.0b/src/parcsr_mv/par_csr_bool_matrix.c:401:16: warning: ignoring return value of 'fscanf', declared with attribute warn_unused_result [-Wunused-result]\n",
      "    hypre_fscanf(fp, \"%d\", &num_cols_offd);\n",
      "                ^\n",
      "/home/juser/.julia/v0.3/Hypre/deps/src/hypre-2.9.0b/src/parcsr_mv/par_csr_bool_matrix.c:403:24: warning: ignoring return value of 'fscanf', declared with attribute warn_unused_result [-Wunused-result]\n",
      "            hypre_fscanf(fp, \"%d %d\", &row_starts[i], &col_starts[i]);\n",
      "                        ^\n",
      "/home/juser/.julia/v0.3/Hypre/deps/src/hypre-2.9.0b/src/parcsr_mv/par_csr_bool_matrix.c:408:21: warning: ignoring return value of 'fscanf', declared with attribute warn_unused_result [-Wunused-result]\n",
      "         hypre_fscanf(fp, \"%d\", &col_map_offd[i]);\n",
      "                     ^\n"
     ]
    },
    {
     "name": "stdout",
     "output_type": "stream",
     "text": [
      "[ 45%] Building C object CMakeFiles/HYPRE.dir/parcsr_mv/par_csr_communication.c.o\n",
      "[ 45%] Building C object CMakeFiles/HYPRE.dir/parcsr_mv/par_csr_matop.c.o\n",
      "[ 45%] "
     ]
    },
    {
     "name": "stderr",
     "output_type": "stream",
     "text": [
      "/home/juser/.julia/v0.3/Hypre/deps/src/hypre-2.9.0b/src/parcsr_mv/par_csr_matrix.c: In function 'hypre_ParCSRMatrixRead':\n"
     ]
    },
    {
     "name": "stdout",
     "output_type": "stream",
     "text": [
      "Building C object CMakeFiles/HYPRE.dir/parcsr_mv/par_csr_matrix.c.o\n"
     ]
    },
    {
     "name": "stderr",
     "output_type": "stream",
     "text": [
      "/home/juser/.julia/v0.3/Hypre/deps/src/hypre-2.9.0b/src/parcsr_mv/par_csr_matrix.c:369:16: warning: ignoring return value of 'fscanf', declared with attribute warn_unused_result [-Wunused-result]\n",
      "    hypre_fscanf(fp, \"%d\", &global_num_rows);\n",
      "                ^\n",
      "/home/juser/.julia/v0.3/Hypre/deps/src/hypre-2.9.0b/src/parcsr_mv/par_csr_matrix.c:370:16: warning: ignoring return value of 'fscanf', declared with attribute warn_unused_result [-Wunused-result]\n",
      "    hypre_fscanf(fp, \"%d\", &global_num_cols);\n",
      "                ^\n",
      "/home/juser/.julia/v0.3/Hypre/deps/src/hypre-2.9.0b/src/parcsr_mv/par_csr_matrix.c:371:16: warning: ignoring return value of 'fscanf', declared with attribute warn_unused_result [-Wunused-result]\n",
      "    hypre_fscanf(fp, \"%d\", &num_cols_offd);\n",
      "                ^\n",
      "/home/juser/.julia/v0.3/Hypre/deps/src/hypre-2.9.0b/src/parcsr_mv/par_csr_matrix.c:382:24: warning: ignoring return value of 'fscanf', declared with attribute warn_unused_result [-Wunused-result]\n",
      "            hypre_fscanf(fp, \"%d %d\", &row_starts[i], &col_starts[i]);\n",
      "                        ^\n",
      "/home/juser/.julia/v0.3/Hypre/deps/src/hypre-2.9.0b/src/parcsr_mv/par_csr_matrix.c:390:21: warning: ignoring return value of 'fscanf', declared with attribute warn_unused_result [-Wunused-result]\n",
      "         hypre_fscanf(fp, \"%d\", &col_map_offd[i]);\n",
      "                     ^\n",
      "/home/juser/.julia/v0.3/Hypre/deps/src/hypre-2.9.0b/src/parcsr_mv/par_csr_matrix.c: In function 'hypre_ParCSRMatrixReadIJ':\n",
      "/home/juser/.julia/v0.3/Hypre/deps/src/hypre-2.9.0b/src/parcsr_mv/par_csr_matrix.c:736:16: warning: ignoring return value of 'fscanf', declared with attribute warn_unused_result [-Wunused-result]\n",
      "    hypre_fscanf(file, \"%d %d\", &global_num_rows, &global_num_cols);\n",
      "                ^\n",
      "/home/juser/.julia/v0.3/Hypre/deps/src/hypre-2.9.0b/src/parcsr_mv/par_csr_matrix.c:737:16: warning: ignoring return value of 'fscanf', declared with attribute warn_unused_result [-Wunused-result]\n",
      "    hypre_fscanf(file, \"%d %d %d\", &num_rows, &num_cols, &num_cols_offd);\n",
      "                ^\n",
      "/home/juser/.julia/v0.3/Hypre/deps/src/hypre-2.9.0b/src/parcsr_mv/par_csr_matrix.c:738:16: warning: ignoring return value of 'fscanf', declared with attribute warn_unused_result [-Wunused-result]\n",
      "    hypre_fscanf(file, \"%d %d\", &num_nonzeros_diag, &num_nonzeros_offd);\n",
      "                ^\n",
      "/home/juser/.julia/v0.3/Hypre/deps/src/hypre-2.9.0b/src/parcsr_mv/par_csr_matrix.c:744:19: warning: ignoring return value of 'fscanf', declared with attribute warn_unused_result [-Wunused-result]\n",
      "       hypre_fscanf(file, \"%d %d\", &row_starts[i], &col_starts[i]);\n",
      "                   ^\n",
      "/home/juser/.julia/v0.3/Hypre/deps/src/hypre-2.9.0b/src/parcsr_mv/par_csr_matrix.c:792:19: warning: ignoring return value of 'fscanf', declared with attribute warn_unused_result [-Wunused-result]\n",
      "       hypre_fscanf(file, \"%d %d %le\", &I, &J, &data);\n",
      "                   ^\n"
     ]
    },
    {
     "name": "stdout",
     "output_type": "stream",
     "text": [
      "[ 45%] Building C object CMakeFiles/HYPRE.dir/parcsr_mv/par_csr_matop_marked.c.o\n",
      "[ 45%] Building C object CMakeFiles/HYPRE.dir/parcsr_mv/par_csr_matvec.c.o\n",
      "[ 45%] Building C object CMakeFiles/HYPRE.dir/parcsr_mv/par_vector.c.o\n"
     ]
    },
    {
     "name": "stderr",
     "output_type": "stream",
     "text": [
      "/home/juser/.julia/v0.3/Hypre/deps/src/hypre-2.9.0b/src/parcsr_mv/par_vector.c: In function 'hypre_ParVectorRead':\n",
      "/home/juser/.julia/v0.3/Hypre/deps/src/hypre-2.9.0b/src/parcsr_mv/par_vector.c:233:16: warning: ignoring return value of 'fscanf', declared with attribute warn_unused_result [-Wunused-result]\n",
      "    hypre_fscanf(fp, \"%d\\n\", &global_size);\n",
      "                ^\n",
      "/home/juser/.julia/v0.3/Hypre/deps/src/hypre-2.9.0b/src/parcsr_mv/par_vector.c:240:14: warning: ignoring return value of 'fscanf', declared with attribute warn_unused_result [-Wunused-result]\n",
      "  hypre_fscanf(fp, \"%d\\n\", &partitioning[i]);\n",
      "              ^\n",
      "/home/juser/.julia/v0.3/Hypre/deps/src/hypre-2.9.0b/src/parcsr_mv/par_vector.c: In function 'hypre_ParVectorReadIJ':\n",
      "/home/juser/.julia/v0.3/Hypre/deps/src/hypre-2.9.0b/src/parcsr_mv/par_vector.c:941:16: warning: ignoring return value of 'fscanf', declared with attribute warn_unused_result [-Wunused-result]\n",
      "    hypre_fscanf(file, \"%d\", &global_size);\n",
      "                ^\n",
      "/home/juser/.julia/v0.3/Hypre/deps/src/hypre-2.9.0b/src/parcsr_mv/par_vector.c:956:16: warning: ignoring return value of 'fscanf', declared with attribute warn_unused_result [-Wunused-result]\n",
      "    hypre_fscanf(file, \"%d\", partitioning);\n",
      "                ^\n",
      "/home/juser/.julia/v0.3/Hypre/deps/src/hypre-2.9.0b/src/parcsr_mv/par_vector.c:959:19: warning: ignoring return value of 'fscanf', declared with attribute warn_unused_result [-Wunused-result]\n",
      "       hypre_fscanf(file, \"%d\", partitioning+i);\n",
      "                   ^\n",
      "/home/juser/.julia/v0.3/Hypre/deps/src/hypre-2.9.0b/src/parcsr_mv/par_vector.c:979:19: warning: ignoring return value of 'fscanf', declared with attribute warn_unused_result [-Wunused-result]\n",
      "       hypre_fscanf(file, \"%d %le\", &J, local_data + j);\n",
      "                   ^\n"
     ]
    },
    {
     "name": "stdout",
     "output_type": "stream",
     "text": [
      "[ 45%] Building C object CMakeFiles/HYPRE.dir/parcsr_mv/par_make_system.c.o\n",
      "[ 46%] Building C object CMakeFiles/HYPRE.dir/parcsr_block_mv/csr_block_matrix.c.o\n",
      "[ 46%] Building C object CMakeFiles/HYPRE.dir/parcsr_block_mv/csr_block_matvec.c.o\n",
      "[ 46%] Building C object CMakeFiles/HYPRE.dir/parcsr_block_mv/par_csr_block_matrix.c.o\n",
      "[ 46%] Building C object CMakeFiles/HYPRE.dir/parcsr_block_mv/par_csr_block_matvec.c.o\n",
      "[ 46%] Building C object CMakeFiles/HYPRE.dir/parcsr_block_mv/par_csr_block_comm.c.o\n",
      "[ 46%] Building C object CMakeFiles/HYPRE.dir/parcsr_block_mv/par_csr_block_rap.c.o\n",
      "[ 47%] Building C object CMakeFiles/HYPRE.dir/parcsr_block_mv/par_csr_block_rap_communication.c.o\n",
      "[ 47%] Building C object CMakeFiles/HYPRE.dir/parcsr_block_mv/par_csr_block_interp.c.o\n",
      "[ 47%] Building C object CMakeFiles/HYPRE.dir/parcsr_block_mv/par_csr_block_relax.c.o\n",
      "[ 47%] Building C object CMakeFiles/HYPRE.dir/parcsr_block_mv/par_block_nodal_systems.c.o\n",
      "[ 47%] Building C object CMakeFiles/HYPRE.dir/distributed_matrix/distributed_matrix.c.o\n",
      "[ 47%] Building C object CMakeFiles/HYPRE.dir/distributed_matrix/HYPRE_distributed_matrix.c.o\n",
      "[ 48%] Building C object CMakeFiles/HYPRE.dir/distributed_matrix/distributed_matrix_ISIS.c.o\n",
      "[ 48%] Building C object CMakeFiles/HYPRE.dir/distributed_matrix/distributed_matrix_PETSc.c.o\n",
      "[ 48%] Building C object CMakeFiles/HYPRE.dir/distributed_matrix/distributed_matrix_parcsr.c.o\n",
      "[ 48%] Building C object CMakeFiles/HYPRE.dir/IJ_mv/aux_parcsr_matrix.c.o\n",
      "[ 48%] Building C object CMakeFiles/HYPRE.dir/IJ_mv/aux_par_vector.c.o\n",
      "[ 48%] Building C object CMakeFiles/HYPRE.dir/IJ_mv/F90_HYPRE_IJMatrix.c.o\n",
      "[ 49%] Building C object CMakeFiles/HYPRE.dir/IJ_mv/F90_HYPRE_IJVector.c.o\n",
      "[ 49%] Building C object CMakeFiles/HYPRE.dir/IJ_mv/F90_IJMatrix.c.o\n",
      "[ 49%] Building C object CMakeFiles/HYPRE.dir/IJ_mv/HYPRE_IJMatrix.c.o\n"
     ]
    },
    {
     "name": "stderr",
     "output_type": "stream",
     "text": [
      "/home/juser/.julia/v0.3/Hypre/deps/src/hypre-2.9.0b/src/IJ_mv/HYPRE_IJMatrix.c: In function 'HYPRE_IJMatrixRead':\n",
      "/home/juser/.julia/v0.3/Hypre/deps/src/hypre-2.9.0b/src/IJ_mv/HYPRE_IJMatrix.c:895:16: warning: ignoring return value of 'fscanf', declared with attribute warn_unused_result [-Wunused-result]\n",
      "    hypre_fscanf(file, \"%d %d %d %d\", &ilower, &iupper, &jlower, &jupper);\n",
      "                ^\n"
     ]
    },
    {
     "name": "stdout",
     "output_type": "stream",
     "text": [
      "[ 49%] "
     ]
    },
    {
     "name": "stderr",
     "output_type": "stream",
     "text": [
      "/home/juser/.julia/v0.3/Hypre/deps/src/hypre-2.9.0b/src/IJ_mv/HYPRE_IJVector.c: In function 'HYPRE_IJVectorRead':\n",
      "/home/juser/.julia/v0.3/Hypre/deps/src/hypre-2.9.0b/src/IJ_mv/HYPRE_IJVector.c:632:16: warning: ignoring return value of 'fscanf', declared with attribute warn_unused_result [-Wunused-result]\n",
      "    hypre_fscanf(file, \"%d %d\", &jlower, &jupper);\n",
      "                ^\n"
     ]
    },
    {
     "name": "stdout",
     "output_type": "stream",
     "text": [
      "Building C object CMakeFiles/HYPRE.dir/IJ_mv/HYPRE_IJVector.c.o\n",
      "[ 49%] Building C object CMakeFiles/HYPRE.dir/IJ_mv/IJMatrix.c.o\n",
      "[ 49%] Building C object CMakeFiles/HYPRE.dir/IJ_mv/IJMatrix_parcsr.c.o\n",
      "[ 50%] Building C object CMakeFiles/HYPRE.dir/IJ_mv/IJVector.c.o\n",
      "[ 50%] Building C object CMakeFiles/HYPRE.dir/IJ_mv/IJVector_parcsr.c.o\n",
      "[ 50%] Building C object CMakeFiles/HYPRE.dir/matrix_matrix/HYPRE_ConvertParCSRMatrixToDistributedMatrix.c.o\n",
      "[ 50%] Building C object CMakeFiles/HYPRE.dir/matrix_matrix/HYPRE_ConvertPETScMatrixToDistributedMatrix.c.o\n",
      "[ 50%] Building C object CMakeFiles/HYPRE.dir/distributed_ls/pilut/comm.c.o\n",
      "[ 50%] Building C object CMakeFiles/HYPRE.dir/distributed_ls/pilut/debug.c.o\n",
      "[ 51%] Building C object CMakeFiles/HYPRE.dir/distributed_ls/pilut/distributed_qsort.c.o\n",
      "[ 51%] Building C object CMakeFiles/HYPRE.dir/distributed_ls/pilut/distributed_qsort_si.c.o\n",
      "[ 51%] Building C object CMakeFiles/HYPRE.dir/distributed_ls/pilut/HYPRE_DistributedMatrixPilutSolver.c.o\n",
      "[ 51%] Building C object CMakeFiles/HYPRE.dir/distributed_ls/pilut/ilut.c.o\n",
      "[ 51%] Building C object CMakeFiles/HYPRE.dir/distributed_ls/pilut/parilut.c.o\n",
      "[ 51%] Building C object CMakeFiles/HYPRE.dir/distributed_ls/pilut/parutil.c.o\n",
      "[ 51%] Building C object CMakeFiles/HYPRE.dir/distributed_ls/pilut/pblas1.c.o\n",
      "[ 52%] Building C object CMakeFiles/HYPRE.dir/distributed_ls/pilut/serilut.c.o\n",
      "[ 52%] Building C object CMakeFiles/HYPRE.dir/distributed_ls/pilut/trifactor.c.o\n",
      "[ 52%] Building C object CMakeFiles/HYPRE.dir/distributed_ls/pilut/util.c.o\n",
      "[ 52%] Building C object CMakeFiles/HYPRE.dir/distributed_ls/ParaSails/ConjGrad.c.o\n",
      "[ 52%] Building C object CMakeFiles/HYPRE.dir/distributed_ls/ParaSails/DiagScale.c.o\n",
      "[ 52%] Building C object CMakeFiles/HYPRE.dir/distributed_ls/ParaSails/FGmres.c.o\n",
      "[ 53%] Building C object CMakeFiles/HYPRE.dir/distributed_ls/ParaSails/Hash.c.o\n",
      "[ 53%] Building C object CMakeFiles/HYPRE.dir/distributed_ls/ParaSails/hypre_ParaSails.c.o\n",
      "[ 53%] Building C object CMakeFiles/HYPRE.dir/distributed_ls/ParaSails/LoadBal.c.o\n",
      "[ 53%] "
     ]
    },
    {
     "name": "stderr",
     "output_type": "stream",
     "text": [
      "/home/juser/.julia/v0.3/Hypre/deps/src/hypre-2.9.0b/src/distributed_ls/ParaSails/Matrix.c: In function 'MatrixReadMaster':\n"
     ]
    },
    {
     "name": "stdout",
     "output_type": "stream",
     "text": [
      "Building C object CMakeFiles/HYPRE.dir/distributed_ls/ParaSails/Matrix.c.o\n"
     ]
    },
    {
     "name": "stderr",
     "output_type": "stream",
     "text": [
      "/home/juser/.julia/v0.3/Hypre/deps/src/hypre-2.9.0b/src/distributed_ls/ParaSails/Matrix.c:325:10: warning: ignoring return value of 'fgets', declared with attribute warn_unused_result [-Wunused-result]\n",
      "     fgets(line, 100, file);\n",
      "          ^\n",
      "/home/juser/.julia/v0.3/Hypre/deps/src/hypre-2.9.0b/src/distributed_ls/ParaSails/Matrix.c:335:17: warning: ignoring return value of 'fscanf', declared with attribute warn_unused_result [-Wunused-result]\n",
      "     hypre_fscanf(file, \"%d %d %lf\", &row, &col, &value);\n",
      "                 ^\n",
      "/home/juser/.julia/v0.3/Hypre/deps/src/hypre-2.9.0b/src/distributed_ls/ParaSails/Matrix.c:350:21: warning: ignoring return value of 'fscanf', declared with attribute warn_unused_result [-Wunused-result]\n",
      "         hypre_fscanf(file, \"%d %d %lf\", &row, &col, &value);\n",
      "                     ^\n",
      "/home/juser/.julia/v0.3/Hypre/deps/src/hypre-2.9.0b/src/distributed_ls/ParaSails/Matrix.c:361:10: warning: ignoring return value of 'fgets', declared with attribute warn_unused_result [-Wunused-result]\n",
      "     fgets(line, 100, file);\n",
      "          ^\n",
      "/home/juser/.julia/v0.3/Hypre/deps/src/hypre-2.9.0b/src/distributed_ls/ParaSails/Matrix.c: In function 'RhsRead':\n",
      "/home/juser/.julia/v0.3/Hypre/deps/src/hypre-2.9.0b/src/distributed_ls/ParaSails/Matrix.c:542:10: warning: ignoring return value of 'fgets', declared with attribute warn_unused_result [-Wunused-result]\n",
      "     fgets(line, 100, file);\n",
      "          ^\n",
      "/home/juser/.julia/v0.3/Hypre/deps/src/hypre-2.9.0b/src/distributed_ls/ParaSails/Matrix.c:549:25: warning: ignoring return value of 'fscanf', declared with attribute warn_unused_result [-Wunused-result]\n",
      "             hypre_fscanf(file, \"%*d %lf\", &rhs[i]);\n",
      "                         ^\n",
      "/home/juser/.julia/v0.3/Hypre/deps/src/hypre-2.9.0b/src/distributed_ls/ParaSails/Matrix.c:551:25: warning: ignoring return value of 'fscanf', declared with attribute warn_unused_result [-Wunused-result]\n",
      "             hypre_fscanf(file, \"%lf\", &rhs[i]);\n",
      "                         ^\n",
      "/home/juser/.julia/v0.3/Hypre/deps/src/hypre-2.9.0b/src/distributed_ls/ParaSails/Matrix.c:566:25: warning: ignoring return value of 'fscanf', declared with attribute warn_unused_result [-Wunused-result]\n",
      "             hypre_fscanf(file, \"%*d %lf\", &buffer[i]);\n",
      "                         ^\n",
      "/home/juser/.julia/v0.3/Hypre/deps/src/hypre-2.9.0b/src/distributed_ls/ParaSails/Matrix.c:568:25: warning: ignoring return value of 'fscanf', declared with attribute warn_unused_result [-Wunused-result]\n",
      "             hypre_fscanf(file, \"%lf\", &buffer[i]);\n",
      "                         ^\n"
     ]
    },
    {
     "name": "stdout",
     "output_type": "stream",
     "text": [
      "[ 53%] Building C object CMakeFiles/HYPRE.dir/distributed_ls/ParaSails/Mem.c.o\n",
      "[ 53%] Building C object CMakeFiles/HYPRE.dir/distributed_ls/ParaSails/Numbering.c.o\n",
      "[ 54%] Building C object CMakeFiles/HYPRE.dir/distributed_ls/ParaSails/OrderStat.c.o\n",
      "[ 54%] Building C object CMakeFiles/HYPRE.dir/distributed_ls/ParaSails/ParaSails.c.o\n",
      "[ 54%] Building C object CMakeFiles/HYPRE.dir/distributed_ls/ParaSails/PrunedRows.c.o\n",
      "[ 54%] Building C object CMakeFiles/HYPRE.dir/distributed_ls/ParaSails/RowPatt.c.o\n",
      "[ 54%] Building C object CMakeFiles/HYPRE.dir/distributed_ls/ParaSails/StoredRows.c.o\n",
      "[ 54%] Building C object CMakeFiles/HYPRE.dir/distributed_ls/Euclid/blas_dh.c.o\n",
      "[ 55%] Building C object CMakeFiles/HYPRE.dir/distributed_ls/Euclid/Euclid_apply.c.o\n",
      "[ 55%] Building C object CMakeFiles/HYPRE.dir/distributed_ls/Euclid/Euclid_dh.c.o\n",
      "[ 55%] Building C object CMakeFiles/HYPRE.dir/distributed_ls/Euclid/ExternalRows_dh.c.o\n",
      "[ 55%] Building C object CMakeFiles/HYPRE.dir/distributed_ls/Euclid/Factor_dh.c.o\n",
      "[ 55%] Building C object CMakeFiles/HYPRE.dir/distributed_ls/Euclid/getRow_dh.c.o\n",
      "[ 55%] Building C object CMakeFiles/HYPRE.dir/distributed_ls/Euclid/globalObjects.c.o\n",
      "[ 56%] Building C object CMakeFiles/HYPRE.dir/distributed_ls/Euclid/Hash_dh.c.o\n",
      "[ 56%] Building C object CMakeFiles/HYPRE.dir/distributed_ls/Euclid/Hash_i_dh.c.o\n",
      "[ 56%] Building C object CMakeFiles/HYPRE.dir/distributed_ls/Euclid/ilu_mpi_bj.c.o\n",
      "[ 56%] Building C object CMakeFiles/HYPRE.dir/distributed_ls/Euclid/ilu_mpi_pilu.c.o\n",
      "[ 56%] Building C object CMakeFiles/HYPRE.dir/distributed_ls/Euclid/ilu_seq.c.o\n",
      "[ 56%] Building C object CMakeFiles/HYPRE.dir/distributed_ls/Euclid/io_dh.c.o\n",
      "[ 57%] Building C object CMakeFiles/HYPRE.dir/distributed_ls/Euclid/krylov_dh.c.o\n",
      "[ 57%] Building C object CMakeFiles/HYPRE.dir/distributed_ls/Euclid/Mat_dh.c.o\n",
      "[ 57%] "
     ]
    },
    {
     "name": "stderr",
     "output_type": "stream",
     "text": [
      "/home/juser/.julia/v0.3/Hypre/deps/src/hypre-2.9.0b/src/distributed_ls/Euclid/mat_dh_private.c: In function 'mat_dh_read_triples_private':\n"
     ]
    },
    {
     "name": "stdout",
     "output_type": "stream",
     "text": [
      "Building C object CMakeFiles/HYPRE.dir/distributed_ls/Euclid/mat_dh_private.c.o\n"
     ]
    },
    {
     "name": "stderr",
     "output_type": "stream",
     "text": [
      "/home/juser/.julia/v0.3/Hypre/deps/src/hypre-2.9.0b/src/distributed_ls/Euclid/mat_dh_private.c:326:12: warning: ignoring return value of 'fgets', declared with attribute warn_unused_result [-Wunused-result]\n",
      "       fgets(junk, MAX_JUNK, fp);\n",
      "            ^\n",
      "/home/juser/.julia/v0.3/Hypre/deps/src/hypre-2.9.0b/src/distributed_ls/Euclid/mat_dh_private.c:334:12: warning: ignoring return value of 'fgets', declared with attribute warn_unused_result [-Wunused-result]\n",
      "       fgets(junk, MAX_JUNK, fp);\n",
      "            ^\n",
      "/home/juser/.julia/v0.3/Hypre/deps/src/hypre-2.9.0b/src/distributed_ls/Euclid/mat_dh_private.c:364:10: warning: ignoring return value of 'fgets', declared with attribute warn_unused_result [-Wunused-result]\n",
      "     fgets(junk, MAX_JUNK, fp);\n",
      "          ^\n"
     ]
    },
    {
     "name": "stdout",
     "output_type": "stream",
     "text": [
      "[ 57%] Building C object CMakeFiles/HYPRE.dir/distributed_ls/Euclid/MatGenFD.c.o\n",
      "[ 57%] Building C object CMakeFiles/HYPRE.dir/distributed_ls/Euclid/Mem_dh.c.o\n",
      "[ 57%] Building C object CMakeFiles/HYPRE.dir/distributed_ls/Euclid/Numbering_dh.c.o\n",
      "[ 57%] Building C object CMakeFiles/HYPRE.dir/distributed_ls/Euclid/Parser_dh.c.o\n",
      "[ 58%] Building C object CMakeFiles/HYPRE.dir/distributed_ls/Euclid/shellSort_dh.c.o\n",
      "[ 58%] Building C object CMakeFiles/HYPRE.dir/distributed_ls/Euclid/sig_dh.c.o\n",
      "[ 58%] Building C object CMakeFiles/HYPRE.dir/distributed_ls/Euclid/SortedList_dh.c.o\n",
      "[ 58%] Building C object CMakeFiles/HYPRE.dir/distributed_ls/Euclid/SortedSet_dh.c.o\n",
      "[ 58%] Building C object CMakeFiles/HYPRE.dir/distributed_ls/Euclid/SubdomainGraph_dh.c.o\n",
      "[ 58%] Building C object CMakeFiles/HYPRE.dir/distributed_ls/Euclid/TimeLog_dh.c.o\n",
      "[ 59%] Building C object CMakeFiles/HYPRE.dir/distributed_ls/Euclid/Timer_dh.c.o\n"
     ]
    },
    {
     "name": "stderr",
     "output_type": "stream",
     "text": [
      "/home/juser/.julia/v0.3/Hypre/deps/src/hypre-2.9.0b/src/distributed_ls/Euclid/Vec_dh.c: In function 'Vec_dhRead':\n"
     ]
    },
    {
     "name": "stdout",
     "output_type": "stream",
     "text": [
      "[ 59%] Building C object CMakeFiles/HYPRE.dir/distributed_ls/Euclid/Vec_dh.c.o\n"
     ]
    },
    {
     "name": "stderr",
     "output_type": "stream",
     "text": [
      "/home/juser/.julia/v0.3/Hypre/deps/src/hypre-2.9.0b/src/distributed_ls/Euclid/Vec_dh.c:241:12: warning: ignoring return value of 'fgets', declared with attribute warn_unused_result [-Wunused-result]\n",
      "       fgets(junk, MAX_JUNK, fp);\n",
      "            ^\n",
      "/home/juser/.julia/v0.3/Hypre/deps/src/hypre-2.9.0b/src/distributed_ls/Euclid/Vec_dh.c:267:10: warning: ignoring return value of 'fgets', declared with attribute warn_unused_result [-Wunused-result]\n",
      "     fgets(junk, MAX_JUNK, fp);\n",
      "          ^\n"
     ]
    },
    {
     "name": "stdout",
     "output_type": "stream",
     "text": [
      "[ 59%] Building C object CMakeFiles/HYPRE.dir/parcsr_ls/amg_hybrid.c.o\n",
      "[ 59%] Building C object CMakeFiles/HYPRE.dir/parcsr_ls/aux_interp.c.o\n",
      "[ 59%] Building C object CMakeFiles/HYPRE.dir/parcsr_ls/F90_hypre_laplace.c.o\n",
      "[ 59%] Building C object CMakeFiles/HYPRE.dir/parcsr_ls/F90_HYPRE_parcsr_amg.c.o\n",
      "[ 60%] Building C object CMakeFiles/HYPRE.dir/parcsr_ls/F90_HYPRE_parcsr_bicgstab.c.o\n",
      "[ 60%] Building C object CMakeFiles/HYPRE.dir/parcsr_ls/F90_HYPRE_parcsr_block.c.o\n",
      "[ 60%] Building C object CMakeFiles/HYPRE.dir/parcsr_ls/F90_HYPRE_parcsr_cgnr.c.o\n",
      "[ 60%] Building C object CMakeFiles/HYPRE.dir/parcsr_ls/F90_HYPRE_parcsr_Euclid.c.o\n",
      "[ 60%] Building C object CMakeFiles/HYPRE.dir/parcsr_ls/F90_HYPRE_parcsr_gmres.c.o\n",
      "[ 60%] Building C object CMakeFiles/HYPRE.dir/parcsr_ls/F90_HYPRE_parcsr_flexgmres.c.o\n",
      "[ 61%] Building C object CMakeFiles/HYPRE.dir/parcsr_ls/F90_HYPRE_parcsr_lgmres.c.o\n",
      "[ 61%] Building C object CMakeFiles/HYPRE.dir/parcsr_ls/F90_HYPRE_parcsr_hybrid.c.o\n",
      "[ 61%] Building C object CMakeFiles/HYPRE.dir/parcsr_ls/F90_HYPRE_parcsr_int.c.o\n",
      "[ 61%] Building C object CMakeFiles/HYPRE.dir/parcsr_ls/F90_HYPRE_parcsr_ParaSails.c.o\n",
      "[ 61%] Building C object CMakeFiles/HYPRE.dir/parcsr_ls/F90_HYPRE_parcsr_pcg.c.o\n",
      "[ 61%] Building C object CMakeFiles/HYPRE.dir/parcsr_ls/F90_HYPRE_parcsr_pilut.c.o\n",
      "[ 62%] Building C object CMakeFiles/HYPRE.dir/parcsr_ls/F90_HYPRE_parcsr_schwarz.c.o\n",
      "[ 62%] Building C object CMakeFiles/HYPRE.dir/parcsr_ls/F90_HYPRE_ams.c.o\n",
      "[ 62%] Building C object CMakeFiles/HYPRE.dir/parcsr_ls/gen_redcs_mat.c.o\n",
      "[ 62%] Building C object CMakeFiles/HYPRE.dir/parcsr_ls/HYPRE_parcsr_amg.c.o\n",
      "[ 62%] Building C object CMakeFiles/HYPRE.dir/parcsr_ls/HYPRE_parcsr_bicgstab.c.o\n",
      "[ 62%] Building C object CMakeFiles/HYPRE.dir/parcsr_ls/HYPRE_parcsr_block.c.o\n",
      "[ 63%] Building C object CMakeFiles/HYPRE.dir/parcsr_ls/HYPRE_parcsr_cgnr.c.o\n",
      "[ 63%] Building C object CMakeFiles/HYPRE.dir/parcsr_ls/HYPRE_parcsr_Euclid.c.o\n",
      "[ 63%] Building C object CMakeFiles/HYPRE.dir/parcsr_ls/HYPRE_parcsr_gmres.c.o\n",
      "[ 63%] Building C object CMakeFiles/HYPRE.dir/parcsr_ls/HYPRE_parcsr_flexgmres.c.o\n",
      "[ 63%] Building C object CMakeFiles/HYPRE.dir/parcsr_ls/HYPRE_parcsr_lgmres.c.o\n",
      "[ 63%] Building C object CMakeFiles/HYPRE.dir/parcsr_ls/HYPRE_parcsr_hybrid.c.o\n",
      "[ 63%] Building C object CMakeFiles/HYPRE.dir/parcsr_ls/HYPRE_parcsr_int.c.o\n",
      "[ 64%] Building C object CMakeFiles/HYPRE.dir/parcsr_ls/HYPRE_parcsr_ParaSails.c.o\n",
      "[ 64%] Building C object CMakeFiles/HYPRE.dir/parcsr_ls/HYPRE_parcsr_pcg.c.o\n",
      "[ 64%] Building C object CMakeFiles/HYPRE.dir/parcsr_ls/HYPRE_parcsr_pilut.c.o\n",
      "[ 64%] Building C object CMakeFiles/HYPRE.dir/parcsr_ls/HYPRE_parcsr_schwarz.c.o\n",
      "[ 64%] Building C object CMakeFiles/HYPRE.dir/parcsr_ls/HYPRE_ams.c.o\n",
      "[ 64%] Building C object CMakeFiles/HYPRE.dir/parcsr_ls/HYPRE_ads.c.o\n",
      "[ 65%] Building C object CMakeFiles/HYPRE.dir/parcsr_ls/HYPRE_ame.c.o\n",
      "[ 65%] Building C object CMakeFiles/HYPRE.dir/parcsr_ls/par_amg.c.o\n",
      "[ 65%] Building C object CMakeFiles/HYPRE.dir/parcsr_ls/par_amg_setup.c.o\n",
      "[ 65%] Building C object CMakeFiles/HYPRE.dir/parcsr_ls/par_amg_solve.c.o\n",
      "[ 65%] Building C object CMakeFiles/HYPRE.dir/parcsr_ls/par_amg_solveT.c.o\n",
      "[ 65%] Building C object CMakeFiles/HYPRE.dir/parcsr_ls/par_cg_relax_wt.c.o\n",
      "[ 66%] Building C object CMakeFiles/HYPRE.dir/parcsr_ls/par_coarsen.c.o\n",
      "[ 66%] Building C object CMakeFiles/HYPRE.dir/parcsr_ls/par_cgc_coarsen.c.o\n",
      "[ 66%] Building C object CMakeFiles/HYPRE.dir/parcsr_ls/par_coarse_parms.c.o\n",
      "[ 66%] Building C object CMakeFiles/HYPRE.dir/parcsr_ls/par_coordinates.c.o\n",
      "[ 66%] Building C object CMakeFiles/HYPRE.dir/parcsr_ls/par_cr.c.o\n",
      "[ 66%] Building C object CMakeFiles/HYPRE.dir/parcsr_ls/par_cycle.c.o\n",
      "[ 67%] Building C object CMakeFiles/HYPRE.dir/parcsr_ls/par_difconv.c.o\n",
      "[ 67%] Building C object CMakeFiles/HYPRE.dir/parcsr_ls/par_gsmg.c.o\n",
      "[ 67%] Building C object CMakeFiles/HYPRE.dir/parcsr_ls/par_indepset.c.o\n",
      "[ 67%] Building C object CMakeFiles/HYPRE.dir/parcsr_ls/par_interp.c.o\n",
      "[ 67%] Building C object CMakeFiles/HYPRE.dir/parcsr_ls/par_jacobi_interp.c.o\n",
      "[ 67%] Building C object CMakeFiles/HYPRE.dir/parcsr_ls/par_multi_interp.c.o\n",
      "[ 68%] Building C object CMakeFiles/HYPRE.dir/parcsr_ls/par_laplace_27pt.c.o\n",
      "[ 68%] Building C object CMakeFiles/HYPRE.dir/parcsr_ls/par_laplace_9pt.c.o\n",
      "[ 68%] Building C object CMakeFiles/HYPRE.dir/parcsr_ls/par_laplace.c.o\n",
      "[ 68%] Building C object CMakeFiles/HYPRE.dir/parcsr_ls/par_lr_interp.c.o\n",
      "[ 68%] Building C object CMakeFiles/HYPRE.dir/parcsr_ls/par_nodal_systems.c.o\n",
      "[ 68%] Building C object CMakeFiles/HYPRE.dir/parcsr_ls/par_rap.c.o\n",
      "[ 69%] Building C object CMakeFiles/HYPRE.dir/parcsr_ls/par_rap_communication.c.o\n",
      "[ 69%] Building C object CMakeFiles/HYPRE.dir/parcsr_ls/par_rotate_7pt.c.o\n",
      "[ 69%] Building C object CMakeFiles/HYPRE.dir/parcsr_ls/par_vardifconv.c.o\n",
      "[ 69%] Building C object CMakeFiles/HYPRE.dir/parcsr_ls/par_relax.c.o\n",
      "[ 69%] Building C object CMakeFiles/HYPRE.dir/parcsr_ls/par_relax_more.c.o\n",
      "[ 69%] Building C object CMakeFiles/HYPRE.dir/parcsr_ls/par_relax_interface.c.o\n",
      "[ 70%] Building C object CMakeFiles/HYPRE.dir/parcsr_ls/par_scaled_matnorm.c.o\n",
      "[ 70%] Building C object CMakeFiles/HYPRE.dir/parcsr_ls/par_schwarz.c.o\n",
      "[ 70%] Building C object CMakeFiles/HYPRE.dir/parcsr_ls/par_stats.c.o\n",
      "[ 70%] Building C object CMakeFiles/HYPRE.dir/parcsr_ls/par_strength.c.o\n",
      "[ 70%] Building C object CMakeFiles/HYPRE.dir/parcsr_ls/par_sv_interp.c.o\n",
      "[ 70%] Building C object CMakeFiles/HYPRE.dir/parcsr_ls/par_sv_interp_ln.c.o\n",
      "[ 70%] Building C object CMakeFiles/HYPRE.dir/parcsr_ls/partial.c.o\n",
      "[ 71%] Building C object CMakeFiles/HYPRE.dir/parcsr_ls/pcg_par.c.o\n",
      "[ 71%] Building C object CMakeFiles/HYPRE.dir/parcsr_ls/schwarz.c.o\n",
      "[ 71%] Building C object CMakeFiles/HYPRE.dir/parcsr_ls/block_tridiag.c.o\n",
      "[ 71%] Building C object CMakeFiles/HYPRE.dir/parcsr_ls/ams.c.o\n",
      "[ 71%] Building C object CMakeFiles/HYPRE.dir/parcsr_ls/ads.c.o\n",
      "[ 71%] Building C object CMakeFiles/HYPRE.dir/parcsr_ls/ame.c.o\n",
      "[ 72%] Building C object CMakeFiles/HYPRE.dir/struct_mv/assumed_part.c.o\n",
      "[ 72%] Building C object CMakeFiles/HYPRE.dir/struct_mv/box_algebra.c.o\n",
      "[ 72%] Building C object CMakeFiles/HYPRE.dir/struct_mv/box_alloc.c.o\n",
      "[ 72%] Building C object CMakeFiles/HYPRE.dir/struct_mv/box_boundary.c.o\n",
      "[ 72%] Building C object CMakeFiles/HYPRE.dir/struct_mv/box.c.o\n",
      "[ 72%] Building C object CMakeFiles/HYPRE.dir/struct_mv/box_manager.c.o\n",
      "[ 73%] Building C object CMakeFiles/HYPRE.dir/struct_mv/communication_info.c.o\n",
      "[ 73%] Building C object CMakeFiles/HYPRE.dir/struct_mv/computation.c.o\n",
      "[ 73%] Building C object CMakeFiles/HYPRE.dir/struct_mv/F90_HYPRE_struct_grid.c.o\n",
      "[ 73%] Building C object CMakeFiles/HYPRE.dir/struct_mv/F90_HYPRE_struct_matrix.c.o\n",
      "[ 73%] Building C object CMakeFiles/HYPRE.dir/struct_mv/F90_HYPRE_struct_stencil.c.o\n",
      "[ 73%] Building C object CMakeFiles/HYPRE.dir/struct_mv/F90_HYPRE_struct_vector.c.o\n",
      "[ 74%] Building C object CMakeFiles/HYPRE.dir/struct_mv/grow.c.o\n",
      "[ 74%] Building C object CMakeFiles/HYPRE.dir/struct_mv/HYPRE_struct_grid.c.o\n",
      "[ 74%] Building C object CMakeFiles/HYPRE.dir/struct_mv/HYPRE_struct_matrix.c.o\n",
      "[ 74%] Building C object CMakeFiles/HYPRE.dir/struct_mv/HYPRE_struct_stencil.c.o\n",
      "[ 74%] Building C object CMakeFiles/HYPRE.dir/struct_mv/HYPRE_struct_vector.c.o\n",
      "[ 74%] Building C object CMakeFiles/HYPRE.dir/struct_mv/project.c.o\n",
      "[ 75%] Building C object CMakeFiles/HYPRE.dir/struct_mv/struct_axpy.c.o\n",
      "[ 75%] Building C object CMakeFiles/HYPRE.dir/struct_mv/struct_communication.c.o\n",
      "[ 75%] Building C object CMakeFiles/HYPRE.dir/struct_mv/struct_copy.c.o\n"
     ]
    },
    {
     "name": "stderr",
     "output_type": "stream",
     "text": [
      "/home/juser/.julia/v0.3/Hypre/deps/src/hypre-2.9.0b/src/struct_mv/struct_grid.c: In function 'hypre_StructGridRead':\n"
     ]
    },
    {
     "name": "stdout",
     "output_type": "stream",
     "text": [
      "[ 75%] Building C object CMakeFiles/HYPRE.dir/struct_mv/struct_grid.c.o\n"
     ]
    },
    {
     "name": "stderr",
     "output_type": "stream",
     "text": [
      "/home/juser/.julia/v0.3/Hypre/deps/src/hypre-2.9.0b/src/struct_mv/struct_grid.c:791:16: warning: ignoring return value of 'fscanf', declared with attribute warn_unused_result [-Wunused-result]\n",
      "    hypre_fscanf(file, \"%d\\n\", &dim);\n",
      "                ^\n",
      "/home/juser/.julia/v0.3/Hypre/deps/src/hypre-2.9.0b/src/struct_mv/struct_grid.c:794:16: warning: ignoring return value of 'fscanf', declared with attribute warn_unused_result [-Wunused-result]\n",
      "    hypre_fscanf(file, \"%d\\n\", &num_boxes);\n",
      "                ^\n",
      "/home/juser/.julia/v0.3/Hypre/deps/src/hypre-2.9.0b/src/struct_mv/struct_grid.c:797:19: warning: ignoring return value of 'fscanf', declared with attribute warn_unused_result [-Wunused-result]\n",
      "       hypre_fscanf(file, \"%d:  (%d, %d, %d)  x  (%d, %d, %d)\\n\",\n",
      "                   ^\n",
      "/home/juser/.julia/v0.3/Hypre/deps/src/hypre-2.9.0b/src/struct_mv/struct_grid.c:810:16: warning: ignoring return value of 'fscanf', declared with attribute warn_unused_result [-Wunused-result]\n",
      "    hypre_fscanf(file, \"Periodic: %d %d %d\\n\",\n",
      "                ^\n"
     ]
    },
    {
     "name": "stdout",
     "output_type": "stream",
     "text": [
      "[ 75%] Building C object CMakeFiles/HYPRE.dir/struct_mv/struct_innerprod.c.o\n"
     ]
    },
    {
     "name": "stderr",
     "output_type": "stream",
     "text": [
      "/home/juser/.julia/v0.3/Hypre/deps/src/hypre-2.9.0b/src/struct_mv/struct_io.c: In function 'hypre_ReadBoxArrayData':\n"
     ]
    },
    {
     "name": "stdout",
     "output_type": "stream",
     "text": [
      "[ 75%] Building C object CMakeFiles/HYPRE.dir/struct_mv/struct_io.c.o\n"
     ]
    },
    {
     "name": "stderr",
     "output_type": "stream",
     "text": [
      "/home/juser/.julia/v0.3/Hypre/deps/src/hypre-2.9.0b/src/struct_mv/struct_io.c:255:25: warning: ignoring return value of 'fscanf', declared with attribute warn_unused_result [-Wunused-result]\n",
      "             hypre_fscanf(file, \"%d: (%d, %d, %d; %d) %le\\n\",\n",
      "                         ^\n",
      "/home/juser/.julia/v0.3/Hypre/deps/src/hypre-2.9.0b/src/struct_mv/struct_io.c: In function 'hypre_ReadBoxArrayData_CC':\n",
      "/home/juser/.julia/v0.3/Hypre/deps/src/hypre-2.9.0b/src/struct_mv/struct_io.c:321:22: warning: ignoring return value of 'fscanf', declared with attribute warn_unused_result [-Wunused-result]\n",
      "          hypre_fscanf(file, \"*: (*, *, *; %d) %le\\n\",\n",
      "                      ^\n",
      "/home/juser/.julia/v0.3/Hypre/deps/src/hypre-2.9.0b/src/struct_mv/struct_io.c:335:25: warning: ignoring return value of 'fscanf', declared with attribute warn_unused_result [-Wunused-result]\n",
      "             hypre_fscanf(file, \"%d: (%d, %d, %d; %d) %le\\n\",\n",
      "                         ^\n"
     ]
    },
    {
     "name": "stdout",
     "output_type": "stream",
     "text": [
      "[ 76%] Building C object CMakeFiles/HYPRE.dir/struct_mv/struct_matrix.c.o\n"
     ]
    },
    {
     "name": "stderr",
     "output_type": "stream",
     "text": [
      "/home/juser/.julia/v0.3/Hypre/deps/src/hypre-2.9.0b/src/struct_mv/struct_matrix.c: In function 'hypre_StructMatrixRead':\n",
      "/home/juser/.julia/v0.3/Hypre/deps/src/hypre-2.9.0b/src/struct_mv/struct_matrix.c:1748:16: warning: ignoring return value of 'fscanf', declared with attribute warn_unused_result [-Wunused-result]\n",
      "    hypre_fscanf(file, \"StructMatrix\\n\");\n",
      "                ^\n",
      "/home/juser/.julia/v0.3/Hypre/deps/src/hypre-2.9.0b/src/struct_mv/struct_matrix.c:1750:16: warning: ignoring return value of 'fscanf', declared with attribute warn_unused_result [-Wunused-result]\n",
      "    hypre_fscanf(file, \"\\nSymmetric: %d\\n\", &symmetric);\n",
      "                ^\n",
      "/home/juser/.julia/v0.3/Hypre/deps/src/hypre-2.9.0b/src/struct_mv/struct_matrix.c:1751:16: warning: ignoring return value of 'fscanf', declared with attribute warn_unused_result [-Wunused-result]\n",
      "    hypre_fscanf(file, \"\\nConstantCoefficient: %d\\n\", &constant_coefficient);\n",
      "                ^\n",
      "/home/juser/.julia/v0.3/Hypre/deps/src/hypre-2.9.0b/src/struct_mv/struct_matrix.c:1754:16: warning: ignoring return value of 'fscanf', declared with attribute warn_unused_result [-Wunused-result]\n",
      "    hypre_fscanf(file, \"\\nGrid:\\n\");\n",
      "                ^\n",
      "/home/juser/.julia/v0.3/Hypre/deps/src/hypre-2.9.0b/src/struct_mv/struct_matrix.c:1758:16: warning: ignoring return value of 'fscanf', declared with attribute warn_unused_result [-Wunused-result]\n",
      "    hypre_fscanf(file, \"\\nStencil:\\n\");\n",
      "                ^\n",
      "/home/juser/.julia/v0.3/Hypre/deps/src/hypre-2.9.0b/src/struct_mv/struct_matrix.c:1760:16: warning: ignoring return value of 'fscanf', declared with attribute warn_unused_result [-Wunused-result]\n",
      "    hypre_fscanf(file, \"%d\\n\", &stencil_size);\n",
      "                ^\n",
      "/home/juser/.julia/v0.3/Hypre/deps/src/hypre-2.9.0b/src/struct_mv/struct_matrix.c:1769:19: warning: ignoring return value of 'fscanf', declared with attribute warn_unused_result [-Wunused-result]\n",
      "       hypre_fscanf(file, \"%d: %d %d %d\\n\", &idummy,\n",
      "                   ^\n",
      "/home/juser/.julia/v0.3/Hypre/deps/src/hypre-2.9.0b/src/struct_mv/struct_matrix.c:1794:16: warning: ignoring return value of 'fscanf', declared with attribute warn_unused_result [-Wunused-result]\n",
      "    hypre_fscanf(file, \"\\nData:\\n\");\n",
      "                ^\n"
     ]
    },
    {
     "name": "stdout",
     "output_type": "stream",
     "text": [
      "[ 76%] Building C object CMakeFiles/HYPRE.dir/struct_mv/struct_matrix_mask.c.o\n",
      "[ 76%] Building C object CMakeFiles/HYPRE.dir/struct_mv/struct_matvec.c.o\n",
      "[ 76%] Building C object CMakeFiles/HYPRE.dir/struct_mv/struct_overlap_innerprod.c.o\n",
      "[ 76%] Building C object CMakeFiles/HYPRE.dir/struct_mv/struct_scale.c.o\n",
      "[ 76%] Building C object CMakeFiles/HYPRE.dir/struct_mv/struct_stencil.c.o\n",
      "[ 76%] Building C object CMakeFiles/HYPRE.dir/struct_mv/struct_vector.c.o\n"
     ]
    },
    {
     "name": "stderr",
     "output_type": "stream",
     "text": [
      "/home/juser/.julia/v0.3/Hypre/deps/src/hypre-2.9.0b/src/struct_mv/struct_vector.c: In function 'hypre_StructVectorRead':\n",
      "/home/juser/.julia/v0.3/Hypre/deps/src/hypre-2.9.0b/src/struct_mv/struct_vector.c:1134:16: warning: ignoring return value of 'fscanf', declared with attribute warn_unused_result [-Wunused-result]\n",
      "    hypre_fscanf(file, \"StructVector\\n\");\n",
      "                ^\n",
      "/home/juser/.julia/v0.3/Hypre/deps/src/hypre-2.9.0b/src/struct_mv/struct_vector.c:1137:16: warning: ignoring return value of 'fscanf', declared with attribute warn_unused_result [-Wunused-result]\n",
      "    hypre_fscanf(file, \"\\nGrid:\\n\");\n",
      "                ^\n",
      "/home/juser/.julia/v0.3/Hypre/deps/src/hypre-2.9.0b/src/struct_mv/struct_vector.c:1155:16: warning: ignoring return value of 'fscanf', declared with attribute warn_unused_result [-Wunused-result]\n",
      "    hypre_fscanf(file, \"\\nData:\\n\");\n",
      "                ^\n"
     ]
    },
    {
     "name": "stdout",
     "output_type": "stream",
     "text": [
      "[ 77%] Building C object CMakeFiles/HYPRE.dir/struct_ls/coarsen.c.o\n",
      "[ 77%] Building C object CMakeFiles/HYPRE.dir/struct_ls/cyclic_reduction.c.o\n",
      "[ 77%] Building C object CMakeFiles/HYPRE.dir/struct_ls/F90_HYPRE_struct_bicgstab.c.o\n",
      "[ 77%] Building C object CMakeFiles/HYPRE.dir/struct_ls/F90_HYPRE_struct_gmres.c.o\n",
      "[ 77%] Building C object CMakeFiles/HYPRE.dir/struct_ls/F90_HYPRE_struct_hybrid.c.o\n",
      "[ 77%] Building C object CMakeFiles/HYPRE.dir/struct_ls/F90_HYPRE_struct_int.c.o\n",
      "[ 78%] Building C object CMakeFiles/HYPRE.dir/struct_ls/F90_HYPRE_struct_jacobi.c.o\n",
      "[ 78%] Building C object CMakeFiles/HYPRE.dir/struct_ls/F90_HYPRE_struct_pcg.c.o\n",
      "[ 78%] Building C object CMakeFiles/HYPRE.dir/struct_ls/F90_HYPRE_struct_pfmg.c.o\n",
      "[ 78%] Building C object CMakeFiles/HYPRE.dir/struct_ls/F90_HYPRE_struct_smg.c.o\n",
      "[ 78%] Building C object CMakeFiles/HYPRE.dir/struct_ls/F90_HYPRE_struct_sparse_msg.c.o\n",
      "[ 78%] Building C object CMakeFiles/HYPRE.dir/struct_ls/general.c.o\n",
      "[ 79%] Building C object CMakeFiles/HYPRE.dir/struct_ls/hybrid.c.o\n",
      "[ 79%] Building C object CMakeFiles/HYPRE.dir/struct_ls/HYPRE_struct_bicgstab.c.o\n",
      "[ 79%] Building C object CMakeFiles/HYPRE.dir/struct_ls/HYPRE_struct_hybrid.c.o\n",
      "[ 79%] Building C object CMakeFiles/HYPRE.dir/struct_ls/HYPRE_struct_int.c.o\n",
      "[ 79%] Building C object CMakeFiles/HYPRE.dir/struct_ls/HYPRE_struct_jacobi.c.o\n",
      "[ 79%] Building C object CMakeFiles/HYPRE.dir/struct_ls/HYPRE_struct_pfmg.c.o\n",
      "[ 80%] Building C object CMakeFiles/HYPRE.dir/struct_ls/HYPRE_struct_smg.c.o\n",
      "[ 80%] Building C object CMakeFiles/HYPRE.dir/struct_ls/HYPRE_struct_sparse_msg.c.o\n",
      "[ 80%] Building C object CMakeFiles/HYPRE.dir/struct_ls/HYPRE_struct_pcg.c.o\n",
      "[ 80%] Building C object CMakeFiles/HYPRE.dir/struct_ls/HYPRE_struct_gmres.c.o\n",
      "[ 80%] Building C object CMakeFiles/HYPRE.dir/struct_ls/HYPRE_struct_flexgmres.c.o\n",
      "[ 80%] Building C object CMakeFiles/HYPRE.dir/struct_ls/HYPRE_struct_lgmres.c.o\n",
      "[ 81%] Building C object CMakeFiles/HYPRE.dir/struct_ls/jacobi.c.o\n",
      "[ 81%] Building C object CMakeFiles/HYPRE.dir/struct_ls/pcg_struct.c.o\n",
      "[ 81%] Building C object CMakeFiles/HYPRE.dir/struct_ls/pfmg2_setup_rap.c.o\n",
      "[ 81%] Building C object CMakeFiles/HYPRE.dir/struct_ls/pfmg3_setup_rap.c.o\n",
      "[ 81%] Building C object CMakeFiles/HYPRE.dir/struct_ls/pfmg.c.o\n",
      "[ 81%] Building C object CMakeFiles/HYPRE.dir/struct_ls/pfmg_relax.c.o\n",
      "[ 82%] Building C object CMakeFiles/HYPRE.dir/struct_ls/pfmg_setup.c.o\n",
      "[ 82%] Building C object CMakeFiles/HYPRE.dir/struct_ls/pfmg_setup_interp.c.o\n",
      "[ 82%] Building C object CMakeFiles/HYPRE.dir/struct_ls/pfmg_setup_rap5.c.o\n",
      "[ 82%] Building C object CMakeFiles/HYPRE.dir/struct_ls/pfmg_setup_rap7.c.o\n",
      "[ 82%] Building C object CMakeFiles/HYPRE.dir/struct_ls/pfmg_setup_rap.c.o\n",
      "[ 82%] Building C object CMakeFiles/HYPRE.dir/struct_ls/pfmg_solve.c.o\n",
      "[ 82%] Building C object CMakeFiles/HYPRE.dir/struct_ls/point_relax.c.o\n",
      "[ 83%] Building C object CMakeFiles/HYPRE.dir/struct_ls/red_black_constantcoef_gs.c.o\n",
      "[ 83%] Building C object CMakeFiles/HYPRE.dir/struct_ls/red_black_gs.c.o\n",
      "[ 83%] Building C object CMakeFiles/HYPRE.dir/struct_ls/semi.c.o\n",
      "[ 83%] Building C object CMakeFiles/HYPRE.dir/struct_ls/semi_interp.c.o\n",
      "[ 83%] Building C object CMakeFiles/HYPRE.dir/struct_ls/semi_restrict.c.o\n",
      "[ 83%] Building C object CMakeFiles/HYPRE.dir/struct_ls/semi_setup_rap.c.o\n",
      "[ 84%] Building C object CMakeFiles/HYPRE.dir/struct_ls/smg2_setup_rap.c.o\n",
      "[ 84%] Building C object CMakeFiles/HYPRE.dir/struct_ls/smg3_setup_rap.c.o\n",
      "[ 84%] Building C object CMakeFiles/HYPRE.dir/struct_ls/smg_axpy.c.o\n",
      "[ 84%] Building C object CMakeFiles/HYPRE.dir/struct_ls/smg.c.o\n",
      "[ 84%] Building C object CMakeFiles/HYPRE.dir/struct_ls/smg_relax.c.o\n",
      "[ 84%] Building C object CMakeFiles/HYPRE.dir/struct_ls/smg_residual.c.o\n",
      "[ 85%] Building C object CMakeFiles/HYPRE.dir/struct_ls/smg_setup.c.o\n",
      "[ 85%] Building C object CMakeFiles/HYPRE.dir/struct_ls/smg_setup_interp.c.o\n",
      "[ 85%] Building C object CMakeFiles/HYPRE.dir/struct_ls/smg_setup_rap.c.o\n",
      "[ 85%] Building C object CMakeFiles/HYPRE.dir/struct_ls/smg_setup_restrict.c.o\n",
      "[ 85%] Building C object CMakeFiles/HYPRE.dir/struct_ls/smg_solve.c.o\n",
      "[ 85%] Building C object CMakeFiles/HYPRE.dir/struct_ls/sparse_msg2_setup_rap.c.o\n",
      "[ 86%] Building C object CMakeFiles/HYPRE.dir/struct_ls/sparse_msg3_setup_rap.c.o\n",
      "[ 86%] Building C object CMakeFiles/HYPRE.dir/struct_ls/sparse_msg.c.o\n",
      "[ 86%] Building C object CMakeFiles/HYPRE.dir/struct_ls/sparse_msg_filter.c.o\n",
      "[ 86%] Building C object CMakeFiles/HYPRE.dir/struct_ls/sparse_msg_interp.c.o\n",
      "[ 86%] Building C object CMakeFiles/HYPRE.dir/struct_ls/sparse_msg_restrict.c.o\n",
      "[ 86%] Building C object CMakeFiles/HYPRE.dir/struct_ls/sparse_msg_setup.c.o\n",
      "[ 87%] Building C object CMakeFiles/HYPRE.dir/struct_ls/sparse_msg_setup_rap.c.o\n",
      "[ 87%] Building C object CMakeFiles/HYPRE.dir/struct_ls/sparse_msg_solve.c.o\n",
      "[ 87%] Building C object CMakeFiles/HYPRE.dir/sstruct_mv/F90_HYPRE_sstruct_graph.c.o\n",
      "[ 87%] Building C object CMakeFiles/HYPRE.dir/sstruct_mv/F90_HYPRE_sstruct_grid.c.o\n",
      "[ 87%] Building C object CMakeFiles/HYPRE.dir/sstruct_mv/F90_HYPRE_sstruct_matrix.c.o\n",
      "[ 87%] Building C object CMakeFiles/HYPRE.dir/sstruct_mv/F90_HYPRE_sstruct_stencil.c.o\n",
      "[ 88%] Building C object CMakeFiles/HYPRE.dir/sstruct_mv/F90_HYPRE_sstruct_vector.c.o\n",
      "[ 88%] Building C object CMakeFiles/HYPRE.dir/sstruct_mv/HYPRE_sstruct_graph.c.o\n",
      "[ 88%] Building C object CMakeFiles/HYPRE.dir/sstruct_mv/HYPRE_sstruct_grid.c.o\n",
      "[ 88%] Building C object CMakeFiles/HYPRE.dir/sstruct_mv/HYPRE_sstruct_matrix.c.o\n",
      "[ 88%] Building C object CMakeFiles/HYPRE.dir/sstruct_mv/HYPRE_sstruct_stencil.c.o\n",
      "[ 88%] Building C object CMakeFiles/HYPRE.dir/sstruct_mv/HYPRE_sstruct_vector.c.o\n",
      "[ 88%] Building C object CMakeFiles/HYPRE.dir/sstruct_mv/sstruct_axpy.c.o\n",
      "[ 89%] Building C object CMakeFiles/HYPRE.dir/sstruct_mv/sstruct_copy.c.o\n",
      "[ 89%] Building C object CMakeFiles/HYPRE.dir/sstruct_mv/sstruct_graph.c.o\n",
      "[ 89%] Building C object CMakeFiles/HYPRE.dir/sstruct_mv/sstruct_grid.c.o\n",
      "[ 89%] Building C object CMakeFiles/HYPRE.dir/sstruct_mv/sstruct_innerprod.c.o\n",
      "[ 89%] Building C object CMakeFiles/HYPRE.dir/sstruct_mv/sstruct_matrix.c.o\n",
      "[ 89%] Building C object CMakeFiles/HYPRE.dir/sstruct_mv/sstruct_matvec.c.o\n",
      "[ 90%] Building C object CMakeFiles/HYPRE.dir/sstruct_mv/sstruct_overlap_innerprod.c.o\n",
      "[ 90%] Building C object CMakeFiles/HYPRE.dir/sstruct_mv/sstruct_scale.c.o\n",
      "[ 90%] Building C object CMakeFiles/HYPRE.dir/sstruct_mv/sstruct_stencil.c.o\n",
      "[ 90%] Building C object CMakeFiles/HYPRE.dir/sstruct_mv/sstruct_vector.c.o\n",
      "[ 90%] Building C object CMakeFiles/HYPRE.dir/sstruct_ls/F90_HYPRE_sstruct_bicgstab.c.o\n",
      "[ 90%] Building C object CMakeFiles/HYPRE.dir/sstruct_ls/F90_HYPRE_sstruct_gmres.c.o\n",
      "[ 91%] Building C object CMakeFiles/HYPRE.dir/sstruct_ls/F90_HYPRE_sstruct_flexgmres.c.o\n",
      "[ 91%] Building C object CMakeFiles/HYPRE.dir/sstruct_ls/F90_HYPRE_sstruct_lgmres.c.o\n",
      "[ 91%] Building C object CMakeFiles/HYPRE.dir/sstruct_ls/F90_HYPRE_sstruct_InterFAC.c.o\n",
      "[ 91%] Building C object CMakeFiles/HYPRE.dir/sstruct_ls/F90_HYPRE_sstruct_int.c.o\n",
      "[ 91%] Building C object CMakeFiles/HYPRE.dir/sstruct_ls/F90_HYPRE_sstruct_maxwell.c.o\n",
      "[ 91%] Building C object CMakeFiles/HYPRE.dir/sstruct_ls/F90_HYPRE_sstruct_pcg.c.o\n",
      "[ 92%] Building C object CMakeFiles/HYPRE.dir/sstruct_ls/F90_HYPRE_sstruct_split.c.o\n",
      "[ 92%] Building C object CMakeFiles/HYPRE.dir/sstruct_ls/F90_HYPRE_sstruct_sys_pfmg.c.o\n",
      "[ 92%] Building C object CMakeFiles/HYPRE.dir/sstruct_ls/HYPRE_sstruct_bicgstab.c.o\n",
      "[ 92%] Building C object CMakeFiles/HYPRE.dir/sstruct_ls/HYPRE_sstruct_gmres.c.o\n",
      "[ 92%] Building C object CMakeFiles/HYPRE.dir/sstruct_ls/HYPRE_sstruct_flexgmres.c.o\n",
      "[ 92%] Building C object CMakeFiles/HYPRE.dir/sstruct_ls/HYPRE_sstruct_lgmres.c.o\n",
      "[ 93%] Building C object CMakeFiles/HYPRE.dir/sstruct_ls/HYPRE_sstruct_InterFAC.c.o\n",
      "[ 93%] Building C object CMakeFiles/HYPRE.dir/sstruct_ls/HYPRE_sstruct_int.c.o\n",
      "[ 93%] Building C object CMakeFiles/HYPRE.dir/sstruct_ls/HYPRE_sstruct_maxwell.c.o\n",
      "[ 93%] Building C object CMakeFiles/HYPRE.dir/sstruct_ls/HYPRE_sstruct_pcg.c.o\n",
      "[ 93%] Building C object CMakeFiles/HYPRE.dir/sstruct_ls/HYPRE_sstruct_split.c.o\n",
      "[ 93%] Building C object CMakeFiles/HYPRE.dir/sstruct_ls/HYPRE_sstruct_sys_pfmg.c.o\n",
      "[ 94%] Building C object CMakeFiles/HYPRE.dir/sstruct_ls/fac.c.o\n",
      "[ 94%] Building C object CMakeFiles/HYPRE.dir/sstruct_ls/fac_amr_rap.c.o\n",
      "[ 94%] Building C object CMakeFiles/HYPRE.dir/sstruct_ls/fac_amr_fcoarsen.c.o\n",
      "[ 94%] Building C object CMakeFiles/HYPRE.dir/sstruct_ls/fac_amr_zero_data.c.o\n",
      "[ 94%] Building C object CMakeFiles/HYPRE.dir/sstruct_ls/fac_cf_coarsen.c.o\n",
      "[ 94%] Building C object CMakeFiles/HYPRE.dir/sstruct_ls/fac_cfstencil_box.c.o\n",
      "[ 95%] Building C object CMakeFiles/HYPRE.dir/sstruct_ls/fac_CFInterfaceExtents.c.o\n",
      "[ 95%] Building C object CMakeFiles/HYPRE.dir/sstruct_ls/fac_interp2.c.o\n",
      "[ 95%] Building C object CMakeFiles/HYPRE.dir/sstruct_ls/fac_relax.c.o\n",
      "[ 95%] Building C object CMakeFiles/HYPRE.dir/sstruct_ls/fac_restrict2.c.o\n",
      "[ 95%] Building C object CMakeFiles/HYPRE.dir/sstruct_ls/fac_setup2.c.o\n",
      "[ 95%] Building C object CMakeFiles/HYPRE.dir/sstruct_ls/fac_solve3.c.o\n",
      "[ 95%] Building C object CMakeFiles/HYPRE.dir/sstruct_ls/fac_zero_cdata.c.o\n",
      "[ 96%] Building C object CMakeFiles/HYPRE.dir/sstruct_ls/fac_zero_stencilcoef.c.o\n",
      "[ 96%] Building C object CMakeFiles/HYPRE.dir/sstruct_ls/hypre_bsearch.c.o\n",
      "[ 96%] Building C object CMakeFiles/HYPRE.dir/sstruct_ls/krylov.c.o\n",
      "[ 96%] Building C object CMakeFiles/HYPRE.dir/sstruct_ls/krylov_sstruct.c.o\n",
      "[ 96%] Building C object CMakeFiles/HYPRE.dir/sstruct_ls/eliminate_rowscols.c.o\n",
      "[ 96%] Building C object CMakeFiles/HYPRE.dir/sstruct_ls/maxwell_grad.c.o\n",
      "[ 97%] Building C object CMakeFiles/HYPRE.dir/sstruct_ls/maxwell_physbdy.c.o\n",
      "[ 97%] Building C object CMakeFiles/HYPRE.dir/sstruct_ls/maxwell_PNedelec.c.o\n",
      "[ 97%] Building C object CMakeFiles/HYPRE.dir/sstruct_ls/maxwell_PNedelec_bdy.c.o\n",
      "[ 97%] Building C object CMakeFiles/HYPRE.dir/sstruct_ls/maxwell_semi_interp.c.o\n",
      "[ 97%] Building C object CMakeFiles/HYPRE.dir/sstruct_ls/maxwell_TV.c.o\n",
      "[ 97%] Building C object CMakeFiles/HYPRE.dir/sstruct_ls/maxwell_TV_setup.c.o\n",
      "[ 98%] Building C object CMakeFiles/HYPRE.dir/sstruct_ls/maxwell_zeroBC.c.o\n",
      "[ 98%] Building C object CMakeFiles/HYPRE.dir/sstruct_ls/hypre_MaxwellSolve.c.o\n",
      "[ 98%] Building C object CMakeFiles/HYPRE.dir/sstruct_ls/hypre_MaxwellSolve2.c.o\n",
      "[ 98%] Building C object CMakeFiles/HYPRE.dir/sstruct_ls/nd1_amge_interpolation.c.o\n",
      "[ 98%] Building C object CMakeFiles/HYPRE.dir/sstruct_ls/node_relax.c.o\n",
      "[ 98%] Building C object CMakeFiles/HYPRE.dir/sstruct_ls/sstruct_amr_intercommunication.c.o\n",
      "[ 99%] Building C object CMakeFiles/HYPRE.dir/sstruct_ls/sstruct_owninfo.c.o\n",
      "[ 99%] Building C object CMakeFiles/HYPRE.dir/sstruct_ls/sstruct_recvinfo.c.o\n",
      "[ 99%] Building C object CMakeFiles/HYPRE.dir/sstruct_ls/sstruct_sendinfo.c.o\n",
      "[ 99%] Building C object CMakeFiles/HYPRE.dir/sstruct_ls/sstruct_sharedDOFComm.c.o\n",
      "[ 99%] Building C object CMakeFiles/HYPRE.dir/sstruct_ls/sys_pfmg.c.o\n",
      "[ 99%] Building C object CMakeFiles/HYPRE.dir/sstruct_ls/sys_pfmg_relax.c.o\n",
      "[100%] Building C object CMakeFiles/HYPRE.dir/sstruct_ls/sys_pfmg_setup.c.o\n",
      "[100%] Building C object CMakeFiles/HYPRE.dir/sstruct_ls/sys_pfmg_setup_interp.c.o\n",
      "[100%] Building C object CMakeFiles/HYPRE.dir/sstruct_ls/sys_pfmg_setup_rap.c.o\n",
      "[100%] Building C object CMakeFiles/HYPRE.dir/sstruct_ls/sys_pfmg_solve.c.o\n",
      "[100%] Building C object CMakeFiles/HYPRE.dir/sstruct_ls/sys_semi_interp.c.o\n",
      "[100%] Building C object CMakeFiles/HYPRE.dir/sstruct_ls/sys_semi_restrict.c.o\n",
      "Linking CXX shared library libHYPRE.so\n",
      "[100%] "
     ]
    },
    {
     "name": "stderr",
     "output_type": "stream",
     "text": [
      "INFO: Changing Directory to /home/juser/.julia/v0.3/Hypre/deps/src/hypre-2.9.0b/src/cmbuild\n"
     ]
    },
    {
     "name": "stdout",
     "output_type": "stream",
     "text": [
      "Built target HYPRE\n",
      "[  7%] Built target HYPRE_fei\n",
      "[ 14%] Built target HYPRE_mli\n",
      "[ 20%] Built target HYPRE_superlu\n",
      "[100%] Built target HYPRE\n",
      "Install the project...\n",
      "-- Install configuration: \"Release\"\n",
      "-- Installing: /home/juser/.julia/v0.3/Hypre/deps/usr/lib/libHYPRE.so\n",
      "-- Installing: /home/juser/.julia/v0.3/Hypre/deps/usr/include/HYPRE_config.h\n",
      "-- Installing: /home/juser/.julia/v0.3/Hypre/deps/usr/include/HYPREf.h\n",
      "-- Installing: /home/juser/.julia/v0.3/Hypre/deps/usr/include/HYPRE.h\n",
      "-- Installing: /home/juser/.julia/v0.3/Hypre/deps/usr/include/HYPRE_utilities.h\n",
      "-- Installing: /home/juser/.julia/v0.3/Hypre/deps/usr/include/_hypre_utilities.h\n",
      "-- Installing: /home/juser/.julia/v0.3/Hypre/deps/usr/include/HYPRE_error_f.h\n",
      "-- Installing: /home/juser/.julia/v0.3/Hypre/deps/usr/include/fortran.h\n",
      "-- Installing: /home/juser/.julia/v0.3/Hypre/deps/usr/include/fortran_matrix.h\n",
      "-- Installing: /home/juser/.julia/v0.3/Hypre/deps/usr/include/csr_matmultivec.h\n",
      "-- Installing: /home/juser/.julia/v0.3/Hypre/deps/usr/include/interpreter.h\n",
      "-- Installing: /home/juser/.julia/v0.3/Hypre/deps/usr/include/multivector.h\n",
      "-- Installing: /home/juser/.julia/v0.3/Hypre/deps/usr/include/par_csr_matmultivec.h\n",
      "-- Installing: /home/juser/.julia/v0.3/Hypre/deps/usr/include/par_csr_pmvcomm.h\n",
      "-- Installing: /home/juser/.julia/v0.3/Hypre/deps/usr/include/par_multivector.h\n",
      "-- Installing: /home/juser/.julia/v0.3/Hypre/deps/usr/include/seq_multivector.h\n",
      "-- Installing: /home/juser/.julia/v0.3/Hypre/deps/usr/include/temp_multivector.h\n",
      "-- Installing: /home/juser/.julia/v0.3/Hypre/deps/usr/include/HYPRE_krylov.h\n",
      "-- Installing: /home/juser/.julia/v0.3/Hypre/deps/usr/include/HYPRE_lobpcg.h\n",
      "-- Installing: /home/juser/.julia/v0.3/Hypre/deps/usr/include/HYPRE_MatvecFunctions.h\n",
      "-- Installing: /home/juser/.julia/v0.3/Hypre/deps/usr/include/krylov.h\n",
      "-- Installing: /home/juser/.julia/v0.3/Hypre/deps/usr/include/lobpcg.h\n",
      "-- Installing: /home/juser/.julia/v0.3/Hypre/deps/usr/include/HYPRE_seq_mv.h\n",
      "-- Installing: /home/juser/.julia/v0.3/Hypre/deps/usr/include/seq_mv.h\n",
      "-- Installing: /home/juser/.julia/v0.3/Hypre/deps/usr/include/HYPRE_parcsr_mv.h\n",
      "-- Installing: /home/juser/.julia/v0.3/Hypre/deps/usr/include/_hypre_parcsr_mv.h\n",
      "-- Installing: /home/juser/.julia/v0.3/Hypre/deps/usr/include/par_csr_block_matrix.h\n",
      "-- Installing: /home/juser/.julia/v0.3/Hypre/deps/usr/include/csr_block_matrix.h\n",
      "-- Installing: /home/juser/.julia/v0.3/Hypre/deps/usr/include/distributed_matrix.h\n",
      "-- Installing: /home/juser/.julia/v0.3/Hypre/deps/usr/include/HYPRE_IJ_mv.h\n",
      "-- Installing: /home/juser/.julia/v0.3/Hypre/deps/usr/include/_hypre_IJ_mv.h\n",
      "-- Installing: /home/juser/.julia/v0.3/Hypre/deps/usr/include/HYPRE_matrix_matrix_protos.h\n",
      "-- Installing: /home/juser/.julia/v0.3/Hypre/deps/usr/include/HYPRE_DistributedMatrixPilutSolver_protos.h\n",
      "-- Installing: /home/juser/.julia/v0.3/Hypre/deps/usr/include/HYPRE_DistributedMatrixPilutSolver_types.h\n",
      "-- Installing: /home/juser/.julia/v0.3/Hypre/deps/usr/include/HYPRE_parcsr_ls.h\n",
      "-- Installing: /home/juser/.julia/v0.3/Hypre/deps/usr/include/_hypre_parcsr_ls.h\n",
      "-- Installing: /home/juser/.julia/v0.3/Hypre/deps/usr/include/HYPRE_struct_mv.h\n",
      "-- Installing: /home/juser/.julia/v0.3/Hypre/deps/usr/include/_hypre_struct_mv.h\n",
      "-- Installing: /home/juser/.julia/v0.3/Hypre/deps/usr/include/HYPRE_struct_ls.h\n",
      "-- Installing: /home/juser/.julia/v0.3/Hypre/deps/usr/include/_hypre_struct_ls.h\n",
      "-- Installing: /home/juser/.julia/v0.3/Hypre/deps/usr/include/HYPRE_sstruct_mv.h\n",
      "-- Installing: /home/juser/.julia/v0.3/Hypre/deps/usr/include/_hypre_sstruct_mv.h\n",
      "-- Installing: /home/juser/.julia/v0.3/Hypre/deps/usr/include/HYPRE_sstruct_ls.h\n",
      "-- Installing: /home/juser/.julia/v0.3/Hypre/deps/usr/include/_hypre_sstruct_ls.h\n",
      "-- Installing: /home/juser/.julia/v0.3/Hypre/deps/usr/include/Cnames.h\n",
      "-- Installing: /home/juser/.julia/v0.3/Hypre/deps/usr/include/colamd.h\n",
      "-- Installing: /home/juser/.julia/v0.3/Hypre/deps/usr/include/old_colamd.h\n",
      "-- Installing: /home/juser/.julia/v0.3/Hypre/deps/usr/include/slu_cdefs.h\n",
      "-- Installing: /home/juser/.julia/v0.3/Hypre/deps/usr/include/slu_Cnames.h\n",
      "-- Installing: /home/juser/.julia/v0.3/Hypre/deps/usr/include/slu_dcomplex.h\n",
      "-- Installing: /home/juser/.julia/v0.3/Hypre/deps/usr/include/slu_ddefs.h\n",
      "-- Installing: /home/juser/.julia/v0.3/Hypre/deps/usr/include/slu_scomplex.h\n",
      "-- Installing: /home/juser/.julia/v0.3/Hypre/deps/usr/include/slu_sdefs.h\n",
      "-- Installing: /home/juser/.julia/v0.3/Hypre/deps/usr/include/slu_util.h\n",
      "-- Installing: /home/juser/.julia/v0.3/Hypre/deps/usr/include/slu_zdefs.h\n",
      "-- Installing: /home/juser/.julia/v0.3/Hypre/deps/usr/include/supermatrix.h\n",
      "-- Installing: /home/juser/.julia/v0.3/Hypre/deps/usr/include/cfei-hypre.h\n",
      "-- Installing: /home/juser/.julia/v0.3/Hypre/deps/usr/include/cfei_hypre.h\n",
      "-- Installing: /home/juser/.julia/v0.3/Hypre/deps/usr/include/hypre_cfei.h\n",
      "-- Installing: /home/juser/.julia/v0.3/Hypre/deps/usr/include/HYPRE_LinSysCore.h\n",
      "-- Installing: /home/juser/.julia/v0.3/Hypre/deps/usr/include/HYPRE_FEI_includes.h\n",
      "-- Installing: /home/juser/.julia/v0.3/Hypre/deps/usr/include/LLNL_FEI_Fei.h\n",
      "-- Installing: /home/juser/.julia/v0.3/Hypre/deps/usr/include/LLNL_FEI_Impl.h\n",
      "-- Installing: /home/juser/.julia/v0.3/Hypre/deps/usr/include/LLNL_FEI_LSCore.h\n",
      "-- Installing: /home/juser/.julia/v0.3/Hypre/deps/usr/include/LLNL_FEI_Matrix.h\n",
      "-- Installing: /home/juser/.julia/v0.3/Hypre/deps/usr/include/LLNL_FEI_Solver.h\n",
      "-- Installing: /home/juser/.julia/v0.3/Hypre/deps/usr/include/Data.h\n",
      "-- Installing: /home/juser/.julia/v0.3/Hypre/deps/usr/include/Lookup.h\n",
      "-- Installing: /home/juser/.julia/v0.3/Hypre/deps/usr/include/LinearSystemCore.h\n",
      "-- Installing: /home/juser/.julia/v0.3/Hypre/deps/usr/include/fei_defs.h\n"
     ]
    },
    {
     "name": "stderr",
     "output_type": "stream",
     "text": [
      "================================[ ERROR: Hypre ]================================\n",
      "\n",
      "Provider BuildProcess failed to satisfy dependency libhypre\n",
      "while loading /home/juser/.julia/v0.3/Hypre/deps/build.jl, in expression starting on line 87\n",
      "\n",
      "================================================================================\n",
      "\n",
      "================================[ BUILD ERRORS ]================================\n",
      "\n",
      "WARNING: Hypre had build errors.\n",
      "\n",
      " - packages with build errors remain installed in /home/juser/.julia/v0.3\n",
      " - build the package(s) and all dependencies with `Pkg.build(\"Hypre\")`\n",
      " - build a single package by running its `deps/build.jl` script\n",
      "\n",
      "================================================================================\n"
     ]
    }
   ],
   "source": [
    "Pkg.checkout(\"Hypre\")\n",
    "Pkg.build(\"Hypre\")"
   ]
  },
  {
   "cell_type": "code",
   "execution_count": 3,
   "metadata": {
    "collapsed": false
   },
   "outputs": [
    {
     "name": "stderr",
     "output_type": "stream",
     "text": [
      "INFO: Testing Hypre\n"
     ]
    },
    {
     "name": "stdout",
     "output_type": "stream",
     "text": [
      "Testing Hypre.jl in Julia version 0.3.6\n"
     ]
    },
    {
     "name": "stderr",
     "output_type": "stream",
     "text": [
      "ERROR: Hypre not properly installed. Please run Pkg.build(\"Hypre\")\n",
      " in error at error.jl:21\n",
      " in include at ./boot.jl:245\n",
      " in include_from_node1 at ./loading.jl:128\n",
      " in reload_path at loading.jl:152\n",
      " in _require at loading.jl:67\n",
      " in require at loading.jl:51\n",
      " in include at ./boot.jl:245\n",
      " in include_from_node1 at loading.jl:128\n",
      " in process_options at ./client.jl:285\n",
      " in _start at ./client.jl:354\n",
      "while loading /home/juser/.julia/v0.3/Hypre/src/Hypre.jl, in expression starting on line 6\n",
      "while loading /home/juser/.julia/v0.3/Hypre/test/runtests.jl, in expression starting on line 7\n"
     ]
    },
    {
     "name": "stdout",
     "output_type": "stream",
     "text": [
      "\n"
     ]
    },
    {
     "name": "stderr",
     "output_type": "stream",
     "text": [
      "================================[ ERROR: Hypre ]================================\n",
      "\n",
      "failed process: Process(`/usr/bin/julia /home/juser/.julia/v0.3/Hypre/test/runtests.jl`, ProcessExited(1)) [1]\n",
      "\n",
      "================================================================================\n",
      "INFO: No packages to install, update or remove\n"
     ]
    },
    {
     "ename": "LoadError",
     "evalue": "Hypre had test errors\nwhile loading In[3], in expression starting on line 1",
     "output_type": "error",
     "traceback": [
      "Hypre had test errors\nwhile loading In[3], in expression starting on line 1",
      "",
      " in error at error.jl:21",
      " in test at pkg/entry.jl:718",
      " in anonymous at pkg/dir.jl:28",
      " in cd at ./file.jl:20",
      " in cd at pkg/dir.jl:28",
      " in test at pkg.jl:67"
     ]
    }
   ],
   "source": [
    "Pkg.test(\"Hypre\")"
   ]
  },
  {
   "cell_type": "code",
   "execution_count": 6,
   "metadata": {
    "collapsed": false
   },
   "outputs": [
    {
     "name": "stderr",
     "output_type": "stream",
     "text": [
      "INFO: Reading build script...\n"
     ]
    },
    {
     "name": "stdout",
     "output_type": "stream",
     "text": [
      "The package declares 1 dependencies.\n",
      " - Library \"libhypre\"\n",
      "    - Providers:\n",
      "      - Simple Build Process\n"
     ]
    }
   ],
   "source": [
    "using BinDeps\n",
    "BinDeps.debug(\"Hypre\")"
   ]
  },
  {
   "cell_type": "code",
   "execution_count": null,
   "metadata": {
    "collapsed": true
   },
   "outputs": [],
   "source": []
  }
 ],
 "metadata": {
  "kernelspec": {
   "display_name": "Julia 0.3.6",
   "language": "julia",
   "name": "julia 0.3"
  },
  "language_info": {
   "name": "julia",
   "version": "0.3.6"
  }
 },
 "nbformat": 4,
 "nbformat_minor": 0
}
