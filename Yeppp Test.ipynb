{
 "cells": [
  {
   "cell_type": "code",
   "execution_count": 1,
   "metadata": {
    "collapsed": false
   },
   "outputs": [
    {
     "ename": "LoadError",
     "evalue": "unknown package Yeppp\nwhile loading In[1], in expression starting on line 1",
     "output_type": "error",
     "traceback": [
      "unknown package Yeppp\nwhile loading In[1], in expression starting on line 1",
      "",
      " in wait at task.jl:51",
      " in sync_end at ./task.jl:311",
      " in add at pkg/entry.jl:319",
      " in add at pkg/entry.jl:71",
      " in anonymous at ./pkg/dir.jl:28",
      " in cd at ./file.jl:20",
      " in __cd#228__ at ./pkg/dir.jl:28",
      " in add at pkg.jl:20"
     ]
    }
   ],
   "source": [
    "Pkg.add(\"Yeppp\")"
   ]
  },
  {
   "cell_type": "code",
   "execution_count": null,
   "metadata": {
    "collapsed": true
   },
   "outputs": [],
   "source": []
  }
 ],
 "metadata": {
  "kernelspec": {
   "display_name": "Julia 0.3.6",
   "language": "julia",
   "name": "julia 0.3"
  },
  "language_info": {
   "name": "julia",
   "version": "0.3.6"
  }
 },
 "nbformat": 4,
 "nbformat_minor": 0
}
